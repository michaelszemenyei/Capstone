{
 "cells": [
  {
   "cell_type": "code",
   "execution_count": 29,
   "metadata": {},
   "outputs": [],
   "source": [
    "# import packages\n",
    "import numpy as np\n",
    "import pandas as pd\n",
    "import matplotlib.pyplot as plt"
   ]
  },
  {
   "cell_type": "code",
   "execution_count": 30,
   "metadata": {},
   "outputs": [
    {
     "data": {
      "text/html": [
       "<div>\n",
       "<style scoped>\n",
       "    .dataframe tbody tr th:only-of-type {\n",
       "        vertical-align: middle;\n",
       "    }\n",
       "\n",
       "    .dataframe tbody tr th {\n",
       "        vertical-align: top;\n",
       "    }\n",
       "\n",
       "    .dataframe thead th {\n",
       "        text-align: right;\n",
       "    }\n",
       "</style>\n",
       "<table border=\"1\" class=\"dataframe\">\n",
       "  <thead>\n",
       "    <tr style=\"text-align: right;\">\n",
       "      <th></th>\n",
       "      <th>H_FTPct</th>\n",
       "      <th>H_EFGPct</th>\n",
       "      <th>H_ThreePARt</th>\n",
       "      <th>H_FTR</th>\n",
       "      <th>H_REBPct</th>\n",
       "      <th>H_BLKPct</th>\n",
       "      <th>H_AST_TOV_Ratio</th>\n",
       "      <th>A_FTPct</th>\n",
       "      <th>A_EFGPct</th>\n",
       "      <th>A_ThreePARt</th>\n",
       "      <th>A_FTR</th>\n",
       "      <th>A_REBPct</th>\n",
       "      <th>A_BLKPct</th>\n",
       "      <th>A_AST_TOV_Ratio</th>\n",
       "      <th>Target</th>\n",
       "    </tr>\n",
       "  </thead>\n",
       "  <tbody>\n",
       "    <tr>\n",
       "      <th>0</th>\n",
       "      <td>0.833</td>\n",
       "      <td>0.461538</td>\n",
       "      <td>0.395604</td>\n",
       "      <td>0.329670</td>\n",
       "      <td>0.506173</td>\n",
       "      <td>0.036585</td>\n",
       "      <td>1.785714</td>\n",
       "      <td>0.952</td>\n",
       "      <td>0.628049</td>\n",
       "      <td>0.463415</td>\n",
       "      <td>0.256098</td>\n",
       "      <td>0.493827</td>\n",
       "      <td>0.109890</td>\n",
       "      <td>2.142857</td>\n",
       "      <td>0</td>\n",
       "    </tr>\n",
       "    <tr>\n",
       "      <th>1</th>\n",
       "      <td>0.885</td>\n",
       "      <td>0.430851</td>\n",
       "      <td>0.404255</td>\n",
       "      <td>0.276596</td>\n",
       "      <td>0.538462</td>\n",
       "      <td>0.024390</td>\n",
       "      <td>1.133333</td>\n",
       "      <td>0.870</td>\n",
       "      <td>0.542683</td>\n",
       "      <td>0.414634</td>\n",
       "      <td>0.280488</td>\n",
       "      <td>0.461538</td>\n",
       "      <td>0.053191</td>\n",
       "      <td>2.266667</td>\n",
       "      <td>0</td>\n",
       "    </tr>\n",
       "    <tr>\n",
       "      <th>2</th>\n",
       "      <td>0.844</td>\n",
       "      <td>0.590909</td>\n",
       "      <td>0.428571</td>\n",
       "      <td>0.415584</td>\n",
       "      <td>0.486486</td>\n",
       "      <td>0.076923</td>\n",
       "      <td>2.500000</td>\n",
       "      <td>0.935</td>\n",
       "      <td>0.512821</td>\n",
       "      <td>0.397436</td>\n",
       "      <td>0.397436</td>\n",
       "      <td>0.513514</td>\n",
       "      <td>0.025974</td>\n",
       "      <td>1.812500</td>\n",
       "      <td>1</td>\n",
       "    </tr>\n",
       "    <tr>\n",
       "      <th>3</th>\n",
       "      <td>0.727</td>\n",
       "      <td>0.567568</td>\n",
       "      <td>0.364865</td>\n",
       "      <td>0.297297</td>\n",
       "      <td>0.475000</td>\n",
       "      <td>0.053333</td>\n",
       "      <td>2.000000</td>\n",
       "      <td>0.710</td>\n",
       "      <td>0.480000</td>\n",
       "      <td>0.453333</td>\n",
       "      <td>0.413333</td>\n",
       "      <td>0.525000</td>\n",
       "      <td>0.094595</td>\n",
       "      <td>1.727273</td>\n",
       "      <td>1</td>\n",
       "    </tr>\n",
       "    <tr>\n",
       "      <th>4</th>\n",
       "      <td>0.722</td>\n",
       "      <td>0.511905</td>\n",
       "      <td>0.369048</td>\n",
       "      <td>0.214286</td>\n",
       "      <td>0.540816</td>\n",
       "      <td>0.023810</td>\n",
       "      <td>2.363636</td>\n",
       "      <td>0.806</td>\n",
       "      <td>0.476190</td>\n",
       "      <td>0.511905</td>\n",
       "      <td>0.369048</td>\n",
       "      <td>0.459184</td>\n",
       "      <td>0.047619</td>\n",
       "      <td>3.166667</td>\n",
       "      <td>0</td>\n",
       "    </tr>\n",
       "    <tr>\n",
       "      <th>5</th>\n",
       "      <td>0.889</td>\n",
       "      <td>0.551724</td>\n",
       "      <td>0.471264</td>\n",
       "      <td>0.310345</td>\n",
       "      <td>0.523810</td>\n",
       "      <td>0.062500</td>\n",
       "      <td>2.909091</td>\n",
       "      <td>0.654</td>\n",
       "      <td>0.531250</td>\n",
       "      <td>0.437500</td>\n",
       "      <td>0.325000</td>\n",
       "      <td>0.476190</td>\n",
       "      <td>0.080460</td>\n",
       "      <td>2.500000</td>\n",
       "      <td>1</td>\n",
       "    </tr>\n",
       "    <tr>\n",
       "      <th>6</th>\n",
       "      <td>0.700</td>\n",
       "      <td>0.561224</td>\n",
       "      <td>0.418367</td>\n",
       "      <td>0.102041</td>\n",
       "      <td>0.404255</td>\n",
       "      <td>0.060606</td>\n",
       "      <td>2.583333</td>\n",
       "      <td>0.789</td>\n",
       "      <td>0.525253</td>\n",
       "      <td>0.393939</td>\n",
       "      <td>0.191919</td>\n",
       "      <td>0.595745</td>\n",
       "      <td>0.051020</td>\n",
       "      <td>2.000000</td>\n",
       "      <td>0</td>\n",
       "    </tr>\n",
       "    <tr>\n",
       "      <th>7</th>\n",
       "      <td>0.808</td>\n",
       "      <td>0.475490</td>\n",
       "      <td>0.441176</td>\n",
       "      <td>0.254902</td>\n",
       "      <td>0.466102</td>\n",
       "      <td>0.098039</td>\n",
       "      <td>1.647059</td>\n",
       "      <td>0.667</td>\n",
       "      <td>0.441176</td>\n",
       "      <td>0.431373</td>\n",
       "      <td>0.323529</td>\n",
       "      <td>0.533898</td>\n",
       "      <td>0.049020</td>\n",
       "      <td>1.100000</td>\n",
       "      <td>1</td>\n",
       "    </tr>\n",
       "    <tr>\n",
       "      <th>8</th>\n",
       "      <td>0.606</td>\n",
       "      <td>0.464706</td>\n",
       "      <td>0.411765</td>\n",
       "      <td>0.388235</td>\n",
       "      <td>0.455556</td>\n",
       "      <td>0.035714</td>\n",
       "      <td>2.000000</td>\n",
       "      <td>0.870</td>\n",
       "      <td>0.535714</td>\n",
       "      <td>0.309524</td>\n",
       "      <td>0.273810</td>\n",
       "      <td>0.544444</td>\n",
       "      <td>0.058824</td>\n",
       "      <td>2.076923</td>\n",
       "      <td>0</td>\n",
       "    </tr>\n",
       "    <tr>\n",
       "      <th>9</th>\n",
       "      <td>0.743</td>\n",
       "      <td>0.538043</td>\n",
       "      <td>0.445652</td>\n",
       "      <td>0.380435</td>\n",
       "      <td>0.569892</td>\n",
       "      <td>0.045977</td>\n",
       "      <td>3.857143</td>\n",
       "      <td>0.760</td>\n",
       "      <td>0.482759</td>\n",
       "      <td>0.367816</td>\n",
       "      <td>0.287356</td>\n",
       "      <td>0.430108</td>\n",
       "      <td>0.065217</td>\n",
       "      <td>1.461538</td>\n",
       "      <td>1</td>\n",
       "    </tr>\n",
       "  </tbody>\n",
       "</table>\n",
       "</div>"
      ],
      "text/plain": [
       "   H_FTPct  H_EFGPct  H_ThreePARt     H_FTR  H_REBPct  H_BLKPct  \\\n",
       "0    0.833  0.461538     0.395604  0.329670  0.506173  0.036585   \n",
       "1    0.885  0.430851     0.404255  0.276596  0.538462  0.024390   \n",
       "2    0.844  0.590909     0.428571  0.415584  0.486486  0.076923   \n",
       "3    0.727  0.567568     0.364865  0.297297  0.475000  0.053333   \n",
       "4    0.722  0.511905     0.369048  0.214286  0.540816  0.023810   \n",
       "5    0.889  0.551724     0.471264  0.310345  0.523810  0.062500   \n",
       "6    0.700  0.561224     0.418367  0.102041  0.404255  0.060606   \n",
       "7    0.808  0.475490     0.441176  0.254902  0.466102  0.098039   \n",
       "8    0.606  0.464706     0.411765  0.388235  0.455556  0.035714   \n",
       "9    0.743  0.538043     0.445652  0.380435  0.569892  0.045977   \n",
       "\n",
       "   H_AST_TOV_Ratio  A_FTPct  A_EFGPct  A_ThreePARt     A_FTR  A_REBPct  \\\n",
       "0         1.785714    0.952  0.628049     0.463415  0.256098  0.493827   \n",
       "1         1.133333    0.870  0.542683     0.414634  0.280488  0.461538   \n",
       "2         2.500000    0.935  0.512821     0.397436  0.397436  0.513514   \n",
       "3         2.000000    0.710  0.480000     0.453333  0.413333  0.525000   \n",
       "4         2.363636    0.806  0.476190     0.511905  0.369048  0.459184   \n",
       "5         2.909091    0.654  0.531250     0.437500  0.325000  0.476190   \n",
       "6         2.583333    0.789  0.525253     0.393939  0.191919  0.595745   \n",
       "7         1.647059    0.667  0.441176     0.431373  0.323529  0.533898   \n",
       "8         2.000000    0.870  0.535714     0.309524  0.273810  0.544444   \n",
       "9         3.857143    0.760  0.482759     0.367816  0.287356  0.430108   \n",
       "\n",
       "   A_BLKPct  A_AST_TOV_Ratio  Target  \n",
       "0  0.109890         2.142857       0  \n",
       "1  0.053191         2.266667       0  \n",
       "2  0.025974         1.812500       1  \n",
       "3  0.094595         1.727273       1  \n",
       "4  0.047619         3.166667       0  \n",
       "5  0.080460         2.500000       1  \n",
       "6  0.051020         2.000000       0  \n",
       "7  0.049020         1.100000       1  \n",
       "8  0.058824         2.076923       0  \n",
       "9  0.065217         1.461538       1  "
      ]
     },
     "execution_count": 30,
     "metadata": {},
     "output_type": "execute_result"
    }
   ],
   "source": [
    "# read the excel file\n",
    "df = pd.read_csv('../csv_files/Model_Ready_Classification.csv',index_col=0)\n",
    "df.head(10)"
   ]
  },
  {
   "cell_type": "code",
   "execution_count": 31,
   "metadata": {},
   "outputs": [],
   "source": [
    "# Filtering out the Target Variable before working on the dataset\n",
    "dfy = df.filter(['Target'], axis=1)"
   ]
  },
  {
   "cell_type": "code",
   "execution_count": 32,
   "metadata": {},
   "outputs": [],
   "source": [
    "# Dropping the target variable from the dataset\n",
    "df = df.drop(['Target'], axis=1) "
   ]
  },
  {
   "cell_type": "code",
   "execution_count": 33,
   "metadata": {},
   "outputs": [
    {
     "data": {
      "text/plain": [
       "{'whiskers': [<matplotlib.lines.Line2D at 0x7f3fb0b61e48>,\n",
       "  <matplotlib.lines.Line2D at 0x7f3fb0aee1d0>],\n",
       " 'caps': [<matplotlib.lines.Line2D at 0x7f3fb0aee518>,\n",
       "  <matplotlib.lines.Line2D at 0x7f3fb0aee860>],\n",
       " 'boxes': [<matplotlib.lines.Line2D at 0x7f3fb0b61630>],\n",
       " 'medians': [<matplotlib.lines.Line2D at 0x7f3fb0aeeba8>],\n",
       " 'fliers': [<matplotlib.lines.Line2D at 0x7f3fb0aeeef0>],\n",
       " 'means': []}"
      ]
     },
     "execution_count": 33,
     "metadata": {},
     "output_type": "execute_result"
    },
    {
     "data": {
      "image/png": "[encoded data removed]",
      "text/plain": [
       "<Figure size 432x288 with 1 Axes>"
      ]
     },
     "metadata": {
      "needs_background": "light"
     },
     "output_type": "display_data"
    }
   ],
   "source": [
    "# Creating a box plot to detect outliers\n",
    "plt.boxplot(df.H_FTPct)"
   ]
  },
  {
   "cell_type": "code",
   "execution_count": 34,
   "metadata": {},
   "outputs": [
    {
     "data": {
      "text/plain": [
       "{'whiskers': [<matplotlib.lines.Line2D at 0x7f3fb0ace400>,\n",
       "  <matplotlib.lines.Line2D at 0x7f3fb0ace748>],\n",
       " 'caps': [<matplotlib.lines.Line2D at 0x7f3fb0acea90>,\n",
       "  <matplotlib.lines.Line2D at 0x7f3fb0acedd8>],\n",
       " 'boxes': [<matplotlib.lines.Line2D at 0x7f3fb0ace048>],\n",
       " 'medians': [<matplotlib.lines.Line2D at 0x7f3fb0ad5160>],\n",
       " 'fliers': [<matplotlib.lines.Line2D at 0x7f3fb0ad54a8>],\n",
       " 'means': []}"
      ]
     },
     "execution_count": 34,
     "metadata": {},
     "output_type": "execute_result"
    },
    {
     "data": {
      "image/png": "[encoded data removed]",
      "text/plain": [
       "<Figure size 432x288 with 1 Axes>"
      ]
     },
     "metadata": {
      "needs_background": "light"
     },
     "output_type": "display_data"
    }
   ],
   "source": [
    "# Creating a box plot to detect outliers\n",
    "plt.boxplot(df.A_EFGPct)"
   ]
  },
  {
   "cell_type": "code",
   "execution_count": 35,
   "metadata": {},
   "outputs": [
    {
     "data": {
      "text/plain": [
       "{'whiskers': [<matplotlib.lines.Line2D at 0x7f3fb0aa4898>,\n",
       "  <matplotlib.lines.Line2D at 0x7f3fb0aa4c50>],\n",
       " 'caps': [<matplotlib.lines.Line2D at 0x7f3fb0aa4f98>,\n",
       "  <matplotlib.lines.Line2D at 0x7f3fb0a32320>],\n",
       " 'boxes': [<matplotlib.lines.Line2D at 0x7f3fb0aa4748>],\n",
       " 'medians': [<matplotlib.lines.Line2D at 0x7f3fb0a32668>],\n",
       " 'fliers': [<matplotlib.lines.Line2D at 0x7f3fb0a329b0>],\n",
       " 'means': []}"
      ]
     },
     "execution_count": 35,
     "metadata": {},
     "output_type": "execute_result"
    },
    {
     "data": {
      "image/png": "[encoded data removed]",
      "text/plain": [
       "<Figure size 432x288 with 1 Axes>"
      ]
     },
     "metadata": {
      "needs_background": "light"
     },
     "output_type": "display_data"
    }
   ],
   "source": [
    "# Creating a box plot to detect outliers\n",
    "plt.boxplot(df.A_BLKPct)"
   ]
  },
  {
   "cell_type": "code",
   "execution_count": 36,
   "metadata": {},
   "outputs": [
    {
     "data": {
      "text/plain": [
       "{'whiskers': [<matplotlib.lines.Line2D at 0x7f3fb0a0ce48>,\n",
       "  <matplotlib.lines.Line2D at 0x7f3fb0a171d0>],\n",
       " 'caps': [<matplotlib.lines.Line2D at 0x7f3fb0a17518>,\n",
       "  <matplotlib.lines.Line2D at 0x7f3fb0a17860>],\n",
       " 'boxes': [<matplotlib.lines.Line2D at 0x7f3fb0a0ca90>],\n",
       " 'medians': [<matplotlib.lines.Line2D at 0x7f3fb0a17ba8>],\n",
       " 'fliers': [<matplotlib.lines.Line2D at 0x7f3fb0a17ef0>],\n",
       " 'means': []}"
      ]
     },
     "execution_count": 36,
     "metadata": {},
     "output_type": "execute_result"
    },
    {
     "data": {
      "image/png": "[encoded data removed]",
      "text/plain": [
       "<Figure size 432x288 with 1 Axes>"
      ]
     },
     "metadata": {
      "needs_background": "light"
     },
     "output_type": "display_data"
    }
   ],
   "source": [
    "# Creating a box plot to detect outliers\n",
    "plt.boxplot(df.H_FTR)"
   ]
  },
  {
   "cell_type": "code",
   "execution_count": 37,
   "metadata": {},
   "outputs": [
    {
     "data": {
      "text/plain": [
       "{'whiskers': [<matplotlib.lines.Line2D at 0x7f3fb096f860>,\n",
       "  <matplotlib.lines.Line2D at 0x7f3fb096fc18>],\n",
       " 'caps': [<matplotlib.lines.Line2D at 0x7f3fb096ff60>,\n",
       "  <matplotlib.lines.Line2D at 0x7f3fb097c2e8>],\n",
       " 'boxes': [<matplotlib.lines.Line2D at 0x7f3fb096f710>],\n",
       " 'medians': [<matplotlib.lines.Line2D at 0x7f3fb097c630>],\n",
       " 'fliers': [<matplotlib.lines.Line2D at 0x7f3fb097c978>],\n",
       " 'means': []}"
      ]
     },
     "execution_count": 37,
     "metadata": {},
     "output_type": "execute_result"
    },
    {
     "data": {
      "image/png": "[encoded data removed]",
      "text/plain": [
       "<Figure size 432x288 with 1 Axes>"
      ]
     },
     "metadata": {
      "needs_background": "light"
     },
     "output_type": "display_data"
    }
   ],
   "source": [
    "# Creating a box plot to detect outliers\n",
    "plt.boxplot(df.A_FTR)"
   ]
  },
  {
   "cell_type": "code",
   "execution_count": 38,
   "metadata": {},
   "outputs": [
    {
     "data": {
      "text/plain": [
       "{'whiskers': [<matplotlib.lines.Line2D at 0x7f3fb0962278>,\n",
       "  <matplotlib.lines.Line2D at 0x7f3fb0962630>],\n",
       " 'caps': [<matplotlib.lines.Line2D at 0x7f3fb0962978>,\n",
       "  <matplotlib.lines.Line2D at 0x7f3fb0962cc0>],\n",
       " 'boxes': [<matplotlib.lines.Line2D at 0x7f3fb0962128>],\n",
       " 'medians': [<matplotlib.lines.Line2D at 0x7f3fb08ec048>],\n",
       " 'fliers': [<matplotlib.lines.Line2D at 0x7f3fb08ec390>],\n",
       " 'means': []}"
      ]
     },
     "execution_count": 38,
     "metadata": {},
     "output_type": "execute_result"
    },
    {
     "data": {
      "image/png": "[encoded data removed]",
      "text/plain": [
       "<Figure size 432x288 with 1 Axes>"
      ]
     },
     "metadata": {
      "needs_background": "light"
     },
     "output_type": "display_data"
    }
   ],
   "source": [
    "# Creating a box plot to detect outliers\n",
    "plt.boxplot(df.H_EFGPct)"
   ]
  },
  {
   "cell_type": "code",
   "execution_count": 39,
   "metadata": {},
   "outputs": [
    {
     "name": "stdout",
     "output_type": "stream",
     "text": [
      "H_FTPct            0.137000\n",
      "H_EFGPct           0.090398\n",
      "H_ThreePARt        0.116318\n",
      "H_FTR              0.130341\n",
      "H_REBPct           0.069266\n",
      "H_BLKPct           0.039947\n",
      "H_AST_TOV_Ratio    0.869318\n",
      "A_FTPct            0.141000\n",
      "A_EFGPct           0.086639\n",
      "A_ThreePARt        0.115441\n",
      "A_FTR              0.126742\n",
      "A_REBPct           0.069266\n",
      "A_BLKPct           0.037405\n",
      "A_AST_TOV_Ratio    0.857143\n",
      "dtype: float64\n"
     ]
    }
   ],
   "source": [
    "# finding IQR for each column\n",
    "Q1 = df.quantile(0.25)\n",
    "Q3 = df.quantile(0.75)\n",
    "IQR = Q3 - Q1\n",
    "print(IQR)"
   ]
  },
  {
   "cell_type": "code",
   "execution_count": 40,
   "metadata": {},
   "outputs": [
    {
     "name": "stdout",
     "output_type": "stream",
     "text": [
      "      H_FTPct  H_EFGPct  H_ThreePARt  H_FTR  H_REBPct  H_BLKPct  \\\n",
      "0       False     False        False  False     False     False   \n",
      "1       False     False        False  False     False     False   \n",
      "2       False     False        False  False     False     False   \n",
      "3       False     False        False  False     False     False   \n",
      "4       False     False        False  False     False     False   \n",
      "5       False     False        False  False     False     False   \n",
      "6       False     False        False  False     False     False   \n",
      "7       False     False        False  False     False     False   \n",
      "8       False     False        False  False     False     False   \n",
      "9       False     False        False  False     False     False   \n",
      "10      False     False        False  False     False     False   \n",
      "11      False     False        False  False     False     False   \n",
      "12      False     False        False  False     False     False   \n",
      "13      False     False        False  False     False     False   \n",
      "14      False     False        False  False     False     False   \n",
      "15      False     False        False  False     False     False   \n",
      "16      False     False        False  False     False     False   \n",
      "17      False     False        False  False     False     False   \n",
      "18      False     False        False  False     False     False   \n",
      "19      False     False        False  False     False     False   \n",
      "20      False     False        False  False     False     False   \n",
      "21      False     False        False  False     False     False   \n",
      "22      False     False        False  False     False     False   \n",
      "23      False     False         True  False     False     False   \n",
      "24      False     False        False  False     False     False   \n",
      "25      False     False        False  False     False     False   \n",
      "26      False     False        False  False     False     False   \n",
      "27      False     False        False  False     False     False   \n",
      "28      False     False        False  False     False     False   \n",
      "29      False     False        False  False     False     False   \n",
      "...       ...       ...          ...    ...       ...       ...   \n",
      "9814    False     False        False  False     False     False   \n",
      "9815    False     False        False  False     False     False   \n",
      "9816    False     False        False  False     False      True   \n",
      "9817    False     False        False   True     False     False   \n",
      "9818    False     False        False  False     False     False   \n",
      "9819    False     False        False  False     False     False   \n",
      "9820    False     False        False  False     False     False   \n",
      "9821    False     False        False  False     False     False   \n",
      "9822    False     False        False  False     False     False   \n",
      "9823    False     False        False  False     False     False   \n",
      "9824    False     False        False  False     False     False   \n",
      "9825    False     False        False  False     False     False   \n",
      "9826    False     False        False  False     False     False   \n",
      "9827     True     False        False  False     False     False   \n",
      "9828    False     False        False  False     False     False   \n",
      "9829    False     False        False  False     False     False   \n",
      "9830    False     False        False  False     False     False   \n",
      "9831    False     False        False  False     False     False   \n",
      "9832    False     False        False  False     False     False   \n",
      "9833    False     False        False  False     False     False   \n",
      "9834    False     False        False  False     False     False   \n",
      "9835    False     False        False  False     False     False   \n",
      "9836    False     False        False  False     False     False   \n",
      "9837    False     False        False  False     False     False   \n",
      "9838    False     False        False  False     False     False   \n",
      "9839    False     False        False  False     False     False   \n",
      "9840    False     False        False  False     False     False   \n",
      "9841    False     False        False   True     False     False   \n",
      "9842    False     False        False  False     False     False   \n",
      "9843    False     False        False  False     False     False   \n",
      "\n",
      "      H_AST_TOV_Ratio  A_FTPct  A_EFGPct  A_ThreePARt  A_FTR  A_REBPct  \\\n",
      "0               False    False     False        False  False     False   \n",
      "1               False    False     False        False  False     False   \n",
      "2               False    False     False        False  False     False   \n",
      "3               False    False     False        False  False     False   \n",
      "4               False    False     False        False  False     False   \n",
      "5               False    False     False        False  False     False   \n",
      "6               False    False     False        False  False     False   \n",
      "7               False    False     False        False  False     False   \n",
      "8               False    False     False        False  False     False   \n",
      "9                True    False     False        False  False     False   \n",
      "10              False    False     False        False  False     False   \n",
      "11              False    False     False        False  False     False   \n",
      "12              False    False     False        False  False     False   \n",
      "13              False    False     False        False  False     False   \n",
      "14              False    False     False        False  False     False   \n",
      "15              False    False     False        False  False     False   \n",
      "16              False    False     False        False  False     False   \n",
      "17              False    False     False        False  False     False   \n",
      "18              False    False     False        False  False     False   \n",
      "19              False    False     False        False  False     False   \n",
      "20              False    False     False        False  False     False   \n",
      "21              False    False     False        False  False     False   \n",
      "22              False    False     False        False  False     False   \n",
      "23              False    False     False        False  False     False   \n",
      "24              False    False     False        False  False     False   \n",
      "25              False    False     False        False  False     False   \n",
      "26              False    False     False        False  False     False   \n",
      "27              False    False     False        False  False     False   \n",
      "28              False    False     False        False  False     False   \n",
      "29              False    False     False        False  False     False   \n",
      "...               ...      ...       ...          ...    ...       ...   \n",
      "9814            False    False     False        False  False     False   \n",
      "9815            False    False     False        False  False     False   \n",
      "9816            False    False     False        False  False     False   \n",
      "9817            False    False     False        False  False     False   \n",
      "9818            False    False     False        False  False     False   \n",
      "9819            False    False     False        False  False     False   \n",
      "9820            False    False     False        False  False     False   \n",
      "9821            False    False     False        False  False     False   \n",
      "9822            False    False     False        False  False     False   \n",
      "9823            False    False     False        False  False     False   \n",
      "9824            False    False     False        False  False     False   \n",
      "9825            False    False     False        False  False     False   \n",
      "9826            False    False     False        False  False     False   \n",
      "9827            False    False     False        False  False     False   \n",
      "9828            False    False     False        False  False     False   \n",
      "9829            False    False     False        False  False     False   \n",
      "9830            False    False     False        False  False     False   \n",
      "9831            False    False     False        False  False     False   \n",
      "9832            False    False     False        False  False     False   \n",
      "9833            False    False     False        False  False     False   \n",
      "9834            False    False     False        False  False     False   \n",
      "9835            False    False     False        False  False     False   \n",
      "9836            False    False     False        False  False     False   \n",
      "9837            False    False     False        False  False     False   \n",
      "9838            False    False     False        False  False     False   \n",
      "9839            False    False     False        False  False     False   \n",
      "9840            False    False     False        False  False     False   \n",
      "9841            False    False     False        False  False     False   \n",
      "9842            False    False     False        False  False     False   \n",
      "9843            False    False     False        False  False     False   \n",
      "\n",
      "      A_BLKPct  A_AST_TOV_Ratio  \n",
      "0        False            False  \n",
      "1        False            False  \n",
      "2        False            False  \n",
      "3        False            False  \n",
      "4        False            False  \n",
      "5        False            False  \n",
      "6        False            False  \n",
      "7        False            False  \n",
      "8        False            False  \n",
      "9        False            False  \n",
      "10       False            False  \n",
      "11       False            False  \n",
      "12       False            False  \n",
      "13       False             True  \n",
      "14       False            False  \n",
      "15       False            False  \n",
      "16       False            False  \n",
      "17       False             True  \n",
      "18       False            False  \n",
      "19       False            False  \n",
      "20       False            False  \n",
      "21       False            False  \n",
      "22       False             True  \n",
      "23       False            False  \n",
      "24       False            False  \n",
      "25       False            False  \n",
      "26       False             True  \n",
      "27       False            False  \n",
      "28       False            False  \n",
      "29       False            False  \n",
      "...        ...              ...  \n",
      "9814     False            False  \n",
      "9815     False            False  \n",
      "9816     False            False  \n",
      "9817     False            False  \n",
      "9818     False            False  \n",
      "9819     False            False  \n",
      "9820     False            False  \n",
      "9821     False            False  \n",
      "9822     False            False  \n",
      "9823      True            False  \n",
      "9824     False            False  \n",
      "9825     False            False  \n",
      "9826     False            False  \n",
      "9827     False            False  \n",
      "9828     False            False  \n",
      "9829     False            False  \n",
      "9830     False            False  \n",
      "9831     False            False  \n",
      "9832     False            False  \n",
      "9833     False            False  \n",
      "9834     False            False  \n",
      "9835     False            False  \n",
      "9836     False            False  \n",
      "9837     False            False  \n",
      "9838     False            False  \n",
      "9839     False            False  \n",
      "9840     False            False  \n",
      "9841     False            False  \n",
      "9842     False            False  \n",
      "9843     False            False  \n",
      "\n",
      "[9844 rows x 14 columns]\n"
     ]
    }
   ],
   "source": [
    "# define upper bound\n",
    "upper = Q3 + 1.5 * IQR\n",
    "# define lower bound \n",
    "lower = Q1 - 1.5 * IQR\n",
    "# define outlier variable \n",
    "# below is equivalent to this formula: outlier = (df < (Q1 - 1.5 * IQR)) | (df > (Q3 + 1.5 * IQR))\n",
    "outlier = (df < lower) | (df > upper)\n",
    "\n",
    "# print out the results\n",
    "# gives the location of the outlier values (indicated by True) based on the bounds defined above \n",
    "print(outlier)"
   ]
  },
  {
   "cell_type": "code",
   "execution_count": 41,
   "metadata": {},
   "outputs": [],
   "source": [
    "# define upper and lower lists\n",
    "upper = []\n",
    "lower = []\n",
    "\n",
    "# create for loop that will iterate over each value in every column\n",
    "for i in df.columns:\n",
    "    # define Q1 and Q3 for each column\n",
    "    Q1 = df[i].quantile(0.25)\n",
    "    Q3 = df[i].quantile(0.75)\n",
    "    # define IQR for each column\n",
    "    IQR = Q3 - Q1\n",
    "    # append empty lists upper and lower\n",
    "    upper_list = Q3 + 1.5 * IQR\n",
    "    upper.append(upper_list)\n",
    "    lower_list = Q1 - 1.5 * IQR\n",
    "    lower.append(lower_list)"
   ]
  },
  {
   "cell_type": "code",
   "execution_count": 42,
   "metadata": {},
   "outputs": [],
   "source": [
    "# define the function that will replace outlier values in each column with the appropriate upper or lower limit \n",
    "def outlier_handling(x, upper, lower):\n",
    "    if x > upper:\n",
    "        x = upper\n",
    "    elif x < lower:\n",
    "            x = lower\n",
    "    else:\n",
    "        pass\n",
    "    return x"
   ]
  },
  {
   "cell_type": "code",
   "execution_count": 43,
   "metadata": {},
   "outputs": [],
   "source": [
    "# apply the outlier handling function to the df dataframe to replace the outlier values in each column\n",
    "for col in df.columns:\n",
    "    q1 = df.loc[:, col].quantile(0.25)\n",
    "    q3 = df.loc[:, col].quantile(0.75)\n",
    "    IQR = q3 - q1\n",
    "    lbound = q1 - 1.5*IQR\n",
    "    ubound = q3 + 1.5*IQR\n",
    "    df.loc[:, col] = df.loc[:, col].apply(lambda x: outlier_handling(x, ubound,lbound))"
   ]
  },
  {
   "cell_type": "markdown",
   "metadata": {},
   "source": [
    "## Going to check and see if worked"
   ]
  },
  {
   "cell_type": "code",
   "execution_count": 44,
   "metadata": {},
   "outputs": [
    {
     "data": {
      "text/plain": [
       "{'whiskers': [<matplotlib.lines.Line2D at 0x7f3fb08c3828>,\n",
       "  <matplotlib.lines.Line2D at 0x7f3fb08c3b70>],\n",
       " 'caps': [<matplotlib.lines.Line2D at 0x7f3fb08c3eb8>,\n",
       "  <matplotlib.lines.Line2D at 0x7f3fb08cd240>],\n",
       " 'boxes': [<matplotlib.lines.Line2D at 0x7f3fb08c34a8>],\n",
       " 'medians': [<matplotlib.lines.Line2D at 0x7f3fb08cd588>],\n",
       " 'fliers': [<matplotlib.lines.Line2D at 0x7f3fb08cd8d0>],\n",
       " 'means': []}"
      ]
     },
     "execution_count": 44,
     "metadata": {},
     "output_type": "execute_result"
    },
    {
     "data": {
      "image/png": "[encoded data removed]",
      "text/plain": [
       "<Figure size 432x288 with 1 Axes>"
      ]
     },
     "metadata": {
      "needs_background": "light"
     },
     "output_type": "display_data"
    }
   ],
   "source": [
    "# Creating a box plot to detect outliers\n",
    "plt.boxplot(df.H_FTR)"
   ]
  },
  {
   "cell_type": "code",
   "execution_count": 45,
   "metadata": {},
   "outputs": [
    {
     "data": {
      "text/plain": [
       "{'whiskers': [<matplotlib.lines.Line2D at 0x7f3fb0880240>,\n",
       "  <matplotlib.lines.Line2D at 0x7f3fb08805c0>],\n",
       " 'caps': [<matplotlib.lines.Line2D at 0x7f3fb0880908>,\n",
       "  <matplotlib.lines.Line2D at 0x7f3fb0880c50>],\n",
       " 'boxes': [<matplotlib.lines.Line2D at 0x7f3fb0899e10>],\n",
       " 'medians': [<matplotlib.lines.Line2D at 0x7f3fb0880f98>],\n",
       " 'fliers': [<matplotlib.lines.Line2D at 0x7f3fb0831320>],\n",
       " 'means': []}"
      ]
     },
     "execution_count": 45,
     "metadata": {},
     "output_type": "execute_result"
    },
    {
     "data": {
      "image/png": "[encoded data removed]",
      "text/plain": [
       "<Figure size 432x288 with 1 Axes>"
      ]
     },
     "metadata": {
      "needs_background": "light"
     },
     "output_type": "display_data"
    }
   ],
   "source": [
    "# Creating a box plot to detect outliers\n",
    "plt.boxplot(df.A_EFGPct)"
   ]
  },
  {
   "cell_type": "code",
   "execution_count": 46,
   "metadata": {},
   "outputs": [
    {
     "data": {
      "text/plain": [
       "{'whiskers': [<matplotlib.lines.Line2D at 0x7f3fb08602b0>,\n",
       "  <matplotlib.lines.Line2D at 0x7f3fb08605f8>],\n",
       " 'caps': [<matplotlib.lines.Line2D at 0x7f3fb0860940>,\n",
       "  <matplotlib.lines.Line2D at 0x7f3fb0860c88>],\n",
       " 'boxes': [<matplotlib.lines.Line2D at 0x7f3fb07feef0>],\n",
       " 'medians': [<matplotlib.lines.Line2D at 0x7f3fb0860fd0>],\n",
       " 'fliers': [<matplotlib.lines.Line2D at 0x7f3fb0815358>],\n",
       " 'means': []}"
      ]
     },
     "execution_count": 46,
     "metadata": {},
     "output_type": "execute_result"
    },
    {
     "data": {
      "image/png": "[encoded data removed]",
      "text/plain": [
       "<Figure size 432x288 with 1 Axes>"
      ]
     },
     "metadata": {
      "needs_background": "light"
     },
     "output_type": "display_data"
    }
   ],
   "source": [
    "# Creating a box plot to detect outliers\n",
    "plt.boxplot(df.H_AST_TOV_Ratio)"
   ]
  },
  {
   "cell_type": "code",
   "execution_count": 47,
   "metadata": {},
   "outputs": [
    {
     "data": {
      "text/plain": [
       "{'whiskers': [<matplotlib.lines.Line2D at 0x7f3fb07c3278>,\n",
       "  <matplotlib.lines.Line2D at 0x7f3fb07c35c0>],\n",
       " 'caps': [<matplotlib.lines.Line2D at 0x7f3fb07c3908>,\n",
       "  <matplotlib.lines.Line2D at 0x7f3fb07c3c50>],\n",
       " 'boxes': [<matplotlib.lines.Line2D at 0x7f3fb07e5f28>],\n",
       " 'medians': [<matplotlib.lines.Line2D at 0x7f3fb07c3f98>],\n",
       " 'fliers': [<matplotlib.lines.Line2D at 0x7f3fb077a320>],\n",
       " 'means': []}"
      ]
     },
     "execution_count": 47,
     "metadata": {},
     "output_type": "execute_result"
    },
    {
     "data": {
      "image/png": "[encoded data removed]",
      "text/plain": [
       "<Figure size 432x288 with 1 Axes>"
      ]
     },
     "metadata": {
      "needs_background": "light"
     },
     "output_type": "display_data"
    }
   ],
   "source": [
    "# Creating a box plot to detect outliers\n",
    "plt.boxplot(df.A_BLKPct)"
   ]
  },
  {
   "cell_type": "code",
   "execution_count": 48,
   "metadata": {},
   "outputs": [
    {
     "data": {
      "text/plain": [
       "{'whiskers': [<matplotlib.lines.Line2D at 0x7f3fb0729208>,\n",
       "  <matplotlib.lines.Line2D at 0x7f3fb0729588>],\n",
       " 'caps': [<matplotlib.lines.Line2D at 0x7f3fb07298d0>,\n",
       "  <matplotlib.lines.Line2D at 0x7f3fb0729c18>],\n",
       " 'boxes': [<matplotlib.lines.Line2D at 0x7f3fb0747dd8>],\n",
       " 'medians': [<matplotlib.lines.Line2D at 0x7f3fb0729f60>],\n",
       " 'fliers': [<matplotlib.lines.Line2D at 0x7f3fb075d2e8>],\n",
       " 'means': []}"
      ]
     },
     "execution_count": 48,
     "metadata": {},
     "output_type": "execute_result"
    },
    {
     "data": {
      "image/png": "[encoded data removed]",
      "text/plain": [
       "<Figure size 432x288 with 1 Axes>"
      ]
     },
     "metadata": {
      "needs_background": "light"
     },
     "output_type": "display_data"
    }
   ],
   "source": [
    "# Creating a box plot to detect outliers\n",
    "plt.boxplot(df.H_REBPct)"
   ]
  },
  {
   "cell_type": "code",
   "execution_count": 49,
   "metadata": {},
   "outputs": [
    {
     "data": {
      "text/plain": [
       "{'whiskers': [<matplotlib.lines.Line2D at 0x7f3fb06aecf8>,\n",
       "  <matplotlib.lines.Line2D at 0x7f3fb06bb080>],\n",
       " 'caps': [<matplotlib.lines.Line2D at 0x7f3fb06bb3c8>,\n",
       "  <matplotlib.lines.Line2D at 0x7f3fb06bb710>],\n",
       " 'boxes': [<matplotlib.lines.Line2D at 0x7f3fb06ae978>],\n",
       " 'medians': [<matplotlib.lines.Line2D at 0x7f3fb06bba58>],\n",
       " 'fliers': [<matplotlib.lines.Line2D at 0x7f3fb06bbda0>],\n",
       " 'means': []}"
      ]
     },
     "execution_count": 49,
     "metadata": {},
     "output_type": "execute_result"
    },
    {
     "data": {
      "image/png": "[encoded data removed]",
      "text/plain": [
       "<Figure size 432x288 with 1 Axes>"
      ]
     },
     "metadata": {
      "needs_background": "light"
     },
     "output_type": "display_data"
    }
   ],
   "source": [
    "# Creating a box plot to detect outliers\n",
    "plt.boxplot(df.A_REBPct)"
   ]
  },
  {
   "cell_type": "markdown",
   "metadata": {},
   "source": [
    "## IT WORKED!!"
   ]
  },
  {
   "cell_type": "code",
   "execution_count": 50,
   "metadata": {},
   "outputs": [],
   "source": [
    "# export new dataframe to csv\n",
    "df.to_csv('../csv_files/Capstone_p1_iqr.csv')"
   ]
  },
  {
   "cell_type": "code",
   "execution_count": 51,
   "metadata": {},
   "outputs": [],
   "source": [
    "# Saving Y (Target) to a csv\n",
    "dfy.to_csv('../csv_files/TargetVariable_p1_Classification.csv')"
   ]
  },
  {
   "cell_type": "code",
   "execution_count": null,
   "metadata": {},
   "outputs": [],
   "source": []
  }
 ],
 "metadata": {
  "kernelspec": {
   "display_name": "Python 3",
   "language": "python",
   "name": "python3"
  },
  "language_info": {
   "codemirror_mode": {
    "name": "ipython",
    "version": 3
   },
   "file_extension": ".py",
   "mimetype": "text/x-python",
   "name": "python",
   "nbconvert_exporter": "python",
   "pygments_lexer": "ipython3",
   "version": "3.6.7"
  }
 },
 "nbformat": 4,
 "nbformat_minor": 2
}
