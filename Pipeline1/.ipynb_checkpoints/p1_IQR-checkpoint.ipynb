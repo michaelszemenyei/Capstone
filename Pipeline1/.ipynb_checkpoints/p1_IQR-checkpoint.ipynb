{
 "cells": [
  {
   "cell_type": "code",
   "execution_count": 1,
   "metadata": {},
   "outputs": [],
   "source": [
    "# import packages\n",
    "import numpy as np\n",
    "import pandas as pd\n",
    "import matplotlib.pyplot as plt"
   ]
  },
  {
   "cell_type": "code",
   "execution_count": 2,
   "metadata": {},
   "outputs": [
    {
     "data": {
      "text/html": [
       "<div>\n",
       "<style scoped>\n",
       "    .dataframe tbody tr th:only-of-type {\n",
       "        vertical-align: middle;\n",
       "    }\n",
       "\n",
       "    .dataframe tbody tr th {\n",
       "        vertical-align: top;\n",
       "    }\n",
       "\n",
       "    .dataframe thead th {\n",
       "        text-align: right;\n",
       "    }\n",
       "</style>\n",
       "<table border=\"1\" class=\"dataframe\">\n",
       "  <thead>\n",
       "    <tr style=\"text-align: right;\">\n",
       "      <th></th>\n",
       "      <th>PTS</th>\n",
       "      <th>FGM</th>\n",
       "      <th>FGA</th>\n",
       "      <th>FGPerc</th>\n",
       "      <th>3PM</th>\n",
       "      <th>3PA</th>\n",
       "      <th>3PPerc</th>\n",
       "      <th>FTM</th>\n",
       "      <th>FTA</th>\n",
       "      <th>FTPerc</th>\n",
       "      <th>...</th>\n",
       "      <th>DREB</th>\n",
       "      <th>REB</th>\n",
       "      <th>AST</th>\n",
       "      <th>STL</th>\n",
       "      <th>BLK</th>\n",
       "      <th>TOV</th>\n",
       "      <th>PF</th>\n",
       "      <th>EFGPerc</th>\n",
       "      <th>FTR</th>\n",
       "      <th>Target</th>\n",
       "    </tr>\n",
       "  </thead>\n",
       "  <tbody>\n",
       "    <tr>\n",
       "      <th>0</th>\n",
       "      <td>109</td>\n",
       "      <td>36</td>\n",
       "      <td>91</td>\n",
       "      <td>39.6</td>\n",
       "      <td>12</td>\n",
       "      <td>36</td>\n",
       "      <td>33.3</td>\n",
       "      <td>25</td>\n",
       "      <td>30</td>\n",
       "      <td>83.3</td>\n",
       "      <td>...</td>\n",
       "      <td>28</td>\n",
       "      <td>41</td>\n",
       "      <td>25</td>\n",
       "      <td>8</td>\n",
       "      <td>3</td>\n",
       "      <td>14</td>\n",
       "      <td>21</td>\n",
       "      <td>0.461538</td>\n",
       "      <td>0.329670</td>\n",
       "      <td>0</td>\n",
       "    </tr>\n",
       "    <tr>\n",
       "      <th>1</th>\n",
       "      <td>123</td>\n",
       "      <td>43</td>\n",
       "      <td>82</td>\n",
       "      <td>52.4</td>\n",
       "      <td>17</td>\n",
       "      <td>38</td>\n",
       "      <td>44.7</td>\n",
       "      <td>20</td>\n",
       "      <td>21</td>\n",
       "      <td>95.2</td>\n",
       "      <td>...</td>\n",
       "      <td>35</td>\n",
       "      <td>40</td>\n",
       "      <td>30</td>\n",
       "      <td>9</td>\n",
       "      <td>10</td>\n",
       "      <td>14</td>\n",
       "      <td>22</td>\n",
       "      <td>0.628049</td>\n",
       "      <td>0.256098</td>\n",
       "      <td>1</td>\n",
       "    </tr>\n",
       "    <tr>\n",
       "      <th>2</th>\n",
       "      <td>109</td>\n",
       "      <td>38</td>\n",
       "      <td>82</td>\n",
       "      <td>46.3</td>\n",
       "      <td>13</td>\n",
       "      <td>34</td>\n",
       "      <td>38.2</td>\n",
       "      <td>20</td>\n",
       "      <td>23</td>\n",
       "      <td>87.0</td>\n",
       "      <td>...</td>\n",
       "      <td>36</td>\n",
       "      <td>42</td>\n",
       "      <td>34</td>\n",
       "      <td>7</td>\n",
       "      <td>5</td>\n",
       "      <td>15</td>\n",
       "      <td>26</td>\n",
       "      <td>0.542683</td>\n",
       "      <td>0.280488</td>\n",
       "      <td>1</td>\n",
       "    </tr>\n",
       "    <tr>\n",
       "      <th>3</th>\n",
       "      <td>104</td>\n",
       "      <td>35</td>\n",
       "      <td>94</td>\n",
       "      <td>37.2</td>\n",
       "      <td>11</td>\n",
       "      <td>38</td>\n",
       "      <td>28.9</td>\n",
       "      <td>23</td>\n",
       "      <td>26</td>\n",
       "      <td>88.5</td>\n",
       "      <td>...</td>\n",
       "      <td>34</td>\n",
       "      <td>49</td>\n",
       "      <td>17</td>\n",
       "      <td>8</td>\n",
       "      <td>2</td>\n",
       "      <td>15</td>\n",
       "      <td>22</td>\n",
       "      <td>0.430851</td>\n",
       "      <td>0.276596</td>\n",
       "      <td>0</td>\n",
       "    </tr>\n",
       "    <tr>\n",
       "      <th>4</th>\n",
       "      <td>109</td>\n",
       "      <td>34</td>\n",
       "      <td>78</td>\n",
       "      <td>43.6</td>\n",
       "      <td>12</td>\n",
       "      <td>31</td>\n",
       "      <td>38.7</td>\n",
       "      <td>29</td>\n",
       "      <td>31</td>\n",
       "      <td>93.5</td>\n",
       "      <td>...</td>\n",
       "      <td>29</td>\n",
       "      <td>38</td>\n",
       "      <td>29</td>\n",
       "      <td>6</td>\n",
       "      <td>2</td>\n",
       "      <td>16</td>\n",
       "      <td>27</td>\n",
       "      <td>0.512821</td>\n",
       "      <td>0.397436</td>\n",
       "      <td>0</td>\n",
       "    </tr>\n",
       "    <tr>\n",
       "      <th>5</th>\n",
       "      <td>118</td>\n",
       "      <td>39</td>\n",
       "      <td>77</td>\n",
       "      <td>50.6</td>\n",
       "      <td>13</td>\n",
       "      <td>33</td>\n",
       "      <td>39.4</td>\n",
       "      <td>27</td>\n",
       "      <td>32</td>\n",
       "      <td>84.4</td>\n",
       "      <td>...</td>\n",
       "      <td>29</td>\n",
       "      <td>36</td>\n",
       "      <td>25</td>\n",
       "      <td>6</td>\n",
       "      <td>6</td>\n",
       "      <td>10</td>\n",
       "      <td>26</td>\n",
       "      <td>0.590909</td>\n",
       "      <td>0.415584</td>\n",
       "      <td>1</td>\n",
       "    </tr>\n",
       "    <tr>\n",
       "      <th>6</th>\n",
       "      <td>94</td>\n",
       "      <td>30</td>\n",
       "      <td>75</td>\n",
       "      <td>40.0</td>\n",
       "      <td>12</td>\n",
       "      <td>34</td>\n",
       "      <td>35.3</td>\n",
       "      <td>22</td>\n",
       "      <td>31</td>\n",
       "      <td>71.0</td>\n",
       "      <td>...</td>\n",
       "      <td>30</td>\n",
       "      <td>42</td>\n",
       "      <td>19</td>\n",
       "      <td>7</td>\n",
       "      <td>7</td>\n",
       "      <td>11</td>\n",
       "      <td>22</td>\n",
       "      <td>0.480000</td>\n",
       "      <td>0.413333</td>\n",
       "      <td>0</td>\n",
       "    </tr>\n",
       "    <tr>\n",
       "      <th>7</th>\n",
       "      <td>100</td>\n",
       "      <td>36</td>\n",
       "      <td>74</td>\n",
       "      <td>48.6</td>\n",
       "      <td>12</td>\n",
       "      <td>27</td>\n",
       "      <td>44.4</td>\n",
       "      <td>16</td>\n",
       "      <td>22</td>\n",
       "      <td>72.7</td>\n",
       "      <td>...</td>\n",
       "      <td>32</td>\n",
       "      <td>38</td>\n",
       "      <td>20</td>\n",
       "      <td>7</td>\n",
       "      <td>4</td>\n",
       "      <td>10</td>\n",
       "      <td>24</td>\n",
       "      <td>0.567568</td>\n",
       "      <td>0.297297</td>\n",
       "      <td>1</td>\n",
       "    </tr>\n",
       "    <tr>\n",
       "      <th>8</th>\n",
       "      <td>99</td>\n",
       "      <td>38</td>\n",
       "      <td>84</td>\n",
       "      <td>45.2</td>\n",
       "      <td>10</td>\n",
       "      <td>31</td>\n",
       "      <td>32.3</td>\n",
       "      <td>13</td>\n",
       "      <td>18</td>\n",
       "      <td>72.2</td>\n",
       "      <td>...</td>\n",
       "      <td>45</td>\n",
       "      <td>53</td>\n",
       "      <td>26</td>\n",
       "      <td>2</td>\n",
       "      <td>2</td>\n",
       "      <td>11</td>\n",
       "      <td>22</td>\n",
       "      <td>0.511905</td>\n",
       "      <td>0.214286</td>\n",
       "      <td>0</td>\n",
       "    </tr>\n",
       "    <tr>\n",
       "      <th>9</th>\n",
       "      <td>105</td>\n",
       "      <td>31</td>\n",
       "      <td>84</td>\n",
       "      <td>36.9</td>\n",
       "      <td>18</td>\n",
       "      <td>43</td>\n",
       "      <td>41.9</td>\n",
       "      <td>25</td>\n",
       "      <td>31</td>\n",
       "      <td>80.6</td>\n",
       "      <td>...</td>\n",
       "      <td>35</td>\n",
       "      <td>45</td>\n",
       "      <td>19</td>\n",
       "      <td>6</td>\n",
       "      <td>4</td>\n",
       "      <td>6</td>\n",
       "      <td>16</td>\n",
       "      <td>0.476190</td>\n",
       "      <td>0.369048</td>\n",
       "      <td>1</td>\n",
       "    </tr>\n",
       "  </tbody>\n",
       "</table>\n",
       "<p>10 rows × 21 columns</p>\n",
       "</div>"
      ],
      "text/plain": [
       "   PTS  FGM  FGA  FGPerc  3PM  3PA  3PPerc  FTM  FTA  FTPerc   ...    DREB  \\\n",
       "0  109   36   91    39.6   12   36    33.3   25   30    83.3   ...      28   \n",
       "1  123   43   82    52.4   17   38    44.7   20   21    95.2   ...      35   \n",
       "2  109   38   82    46.3   13   34    38.2   20   23    87.0   ...      36   \n",
       "3  104   35   94    37.2   11   38    28.9   23   26    88.5   ...      34   \n",
       "4  109   34   78    43.6   12   31    38.7   29   31    93.5   ...      29   \n",
       "5  118   39   77    50.6   13   33    39.4   27   32    84.4   ...      29   \n",
       "6   94   30   75    40.0   12   34    35.3   22   31    71.0   ...      30   \n",
       "7  100   36   74    48.6   12   27    44.4   16   22    72.7   ...      32   \n",
       "8   99   38   84    45.2   10   31    32.3   13   18    72.2   ...      45   \n",
       "9  105   31   84    36.9   18   43    41.9   25   31    80.6   ...      35   \n",
       "\n",
       "   REB  AST  STL  BLK  TOV  PF   EFGPerc       FTR  Target  \n",
       "0   41   25    8    3   14  21  0.461538  0.329670       0  \n",
       "1   40   30    9   10   14  22  0.628049  0.256098       1  \n",
       "2   42   34    7    5   15  26  0.542683  0.280488       1  \n",
       "3   49   17    8    2   15  22  0.430851  0.276596       0  \n",
       "4   38   29    6    2   16  27  0.512821  0.397436       0  \n",
       "5   36   25    6    6   10  26  0.590909  0.415584       1  \n",
       "6   42   19    7    7   11  22  0.480000  0.413333       0  \n",
       "7   38   20    7    4   10  24  0.567568  0.297297       1  \n",
       "8   53   26    2    2   11  22  0.511905  0.214286       0  \n",
       "9   45   19    6    4    6  16  0.476190  0.369048       1  \n",
       "\n",
       "[10 rows x 21 columns]"
      ]
     },
     "execution_count": 2,
     "metadata": {},
     "output_type": "execute_result"
    }
   ],
   "source": [
    "# read the excel file\n",
    "df = pd.read_csv('../csv_files/CapstoneEDA.csv',index_col=0)\n",
    "df.head(10)"
   ]
  },
  {
   "cell_type": "code",
   "execution_count": 3,
   "metadata": {},
   "outputs": [],
   "source": [
    "# Filtering out the Target Variable before working on the dataset\n",
    "dfy = df.filter(['Target'], axis=1)"
   ]
  },
  {
   "cell_type": "code",
   "execution_count": 4,
   "metadata": {},
   "outputs": [],
   "source": [
    "# Dropping the target variable from the dataset\n",
    "df = df.drop(['Target'], axis=1) "
   ]
  },
  {
   "cell_type": "code",
   "execution_count": 5,
   "metadata": {},
   "outputs": [
    {
     "data": {
      "text/plain": [
       "{'whiskers': [<matplotlib.lines.Line2D at 0x7efbf0bf3e80>,\n",
       "  <matplotlib.lines.Line2D at 0x7efbf0c09208>],\n",
       " 'caps': [<matplotlib.lines.Line2D at 0x7efbf0c09550>,\n",
       "  <matplotlib.lines.Line2D at 0x7efbf0c09898>],\n",
       " 'boxes': [<matplotlib.lines.Line2D at 0x7efbf0bf3978>],\n",
       " 'medians': [<matplotlib.lines.Line2D at 0x7efbf0c09be0>],\n",
       " 'fliers': [<matplotlib.lines.Line2D at 0x7efbf0c09f28>],\n",
       " 'means': []}"
      ]
     },
     "execution_count": 5,
     "metadata": {},
     "output_type": "execute_result"
    },
    {
     "data": {
      "image/png": "[encoded data removed]",
      "text/plain": [
       "<Figure size 432x288 with 1 Axes>"
      ]
     },
     "metadata": {
      "needs_background": "light"
     },
     "output_type": "display_data"
    }
   ],
   "source": [
    "# Creating a box plot to detect outliers\n",
    "plt.boxplot(df.PTS)"
   ]
  },
  {
   "cell_type": "code",
   "execution_count": 6,
   "metadata": {},
   "outputs": [
    {
     "data": {
      "text/plain": [
       "{'whiskers': [<matplotlib.lines.Line2D at 0x7efbf0b9d1d0>,\n",
       "  <matplotlib.lines.Line2D at 0x7efbf0b9d588>],\n",
       " 'caps': [<matplotlib.lines.Line2D at 0x7efbf0b9d8d0>,\n",
       "  <matplotlib.lines.Line2D at 0x7efbf0b9dc18>],\n",
       " 'boxes': [<matplotlib.lines.Line2D at 0x7efbf0b9d080>],\n",
       " 'medians': [<matplotlib.lines.Line2D at 0x7efbf0b9df60>],\n",
       " 'fliers': [<matplotlib.lines.Line2D at 0x7efbf0b292e8>],\n",
       " 'means': []}"
      ]
     },
     "execution_count": 6,
     "metadata": {},
     "output_type": "execute_result"
    },
    {
     "data": {
      "image/png": "[encoded data removed]",
      "text/plain": [
       "<Figure size 432x288 with 1 Axes>"
      ]
     },
     "metadata": {
      "needs_background": "light"
     },
     "output_type": "display_data"
    }
   ],
   "source": [
    "# Creating a box plot to detect outliers\n",
    "plt.boxplot(df.AST)"
   ]
  },
  {
   "cell_type": "code",
   "execution_count": 7,
   "metadata": {},
   "outputs": [
    {
     "data": {
      "text/plain": [
       "{'whiskers': [<matplotlib.lines.Line2D at 0x7efbf0af9a58>,\n",
       "  <matplotlib.lines.Line2D at 0x7efbf0af9dd8>],\n",
       " 'caps': [<matplotlib.lines.Line2D at 0x7efbf0b07160>,\n",
       "  <matplotlib.lines.Line2D at 0x7efbf0b074a8>],\n",
       " 'boxes': [<matplotlib.lines.Line2D at 0x7efbf0af9710>],\n",
       " 'medians': [<matplotlib.lines.Line2D at 0x7efbf0b077f0>],\n",
       " 'fliers': [<matplotlib.lines.Line2D at 0x7efbf0b07b38>],\n",
       " 'means': []}"
      ]
     },
     "execution_count": 7,
     "metadata": {},
     "output_type": "execute_result"
    },
    {
     "data": {
      "image/png": "[encoded data removed]",
      "text/plain": [
       "<Figure size 432x288 with 1 Axes>"
      ]
     },
     "metadata": {
      "needs_background": "light"
     },
     "output_type": "display_data"
    }
   ],
   "source": [
    "# Creating a box plot to detect outliers\n",
    "plt.boxplot(df.FGA)"
   ]
  },
  {
   "cell_type": "code",
   "execution_count": 8,
   "metadata": {},
   "outputs": [
    {
     "data": {
      "text/plain": [
       "{'whiskers': [<matplotlib.lines.Line2D at 0x7efbf0ae3320>,\n",
       "  <matplotlib.lines.Line2D at 0x7efbf0ae36a0>],\n",
       " 'caps': [<matplotlib.lines.Line2D at 0x7efbf0ae39e8>,\n",
       "  <matplotlib.lines.Line2D at 0x7efbf0ae3d30>],\n",
       " 'boxes': [<matplotlib.lines.Line2D at 0x7efbf0ac9ba8>],\n",
       " 'medians': [<matplotlib.lines.Line2D at 0x7efbf0a6f0b8>],\n",
       " 'fliers': [<matplotlib.lines.Line2D at 0x7efbf0a6f400>],\n",
       " 'means': []}"
      ]
     },
     "execution_count": 8,
     "metadata": {},
     "output_type": "execute_result"
    },
    {
     "data": {
      "image/png": "[encoded data removed]",
      "text/plain": [
       "<Figure size 432x288 with 1 Axes>"
      ]
     },
     "metadata": {
      "needs_background": "light"
     },
     "output_type": "display_data"
    }
   ],
   "source": [
    "# Creating a box plot to detect outliers\n",
    "plt.boxplot(df.REB)"
   ]
  },
  {
   "cell_type": "code",
   "execution_count": 9,
   "metadata": {},
   "outputs": [
    {
     "data": {
      "text/plain": [
       "{'whiskers': [<matplotlib.lines.Line2D at 0x7efbf0a465f8>,\n",
       "  <matplotlib.lines.Line2D at 0x7efbf0a46940>],\n",
       " 'caps': [<matplotlib.lines.Line2D at 0x7efbf0a46c88>,\n",
       "  <matplotlib.lines.Line2D at 0x7efbf0a46fd0>],\n",
       " 'boxes': [<matplotlib.lines.Line2D at 0x7efbf0a46240>],\n",
       " 'medians': [<matplotlib.lines.Line2D at 0x7efbf0a55358>],\n",
       " 'fliers': [<matplotlib.lines.Line2D at 0x7efbf0a556a0>],\n",
       " 'means': []}"
      ]
     },
     "execution_count": 9,
     "metadata": {},
     "output_type": "execute_result"
    },
    {
     "data": {
      "image/png": "[encoded data removed]",
      "text/plain": [
       "<Figure size 432x288 with 1 Axes>"
      ]
     },
     "metadata": {
      "needs_background": "light"
     },
     "output_type": "display_data"
    }
   ],
   "source": [
    "# Creating a box plot to detect outliers\n",
    "plt.boxplot(df.TOV)"
   ]
  },
  {
   "cell_type": "code",
   "execution_count": 10,
   "metadata": {},
   "outputs": [
    {
     "data": {
      "text/plain": [
       "{'whiskers': [<matplotlib.lines.Line2D at 0x7efbf09b1198>,\n",
       "  <matplotlib.lines.Line2D at 0x7efbf09b14e0>],\n",
       " 'caps': [<matplotlib.lines.Line2D at 0x7efbf09b1828>,\n",
       "  <matplotlib.lines.Line2D at 0x7efbf09b1b70>],\n",
       " 'boxes': [<matplotlib.lines.Line2D at 0x7efbf0a21da0>],\n",
       " 'medians': [<matplotlib.lines.Line2D at 0x7efbf09b1eb8>],\n",
       " 'fliers': [<matplotlib.lines.Line2D at 0x7efbf09bc240>],\n",
       " 'means': []}"
      ]
     },
     "execution_count": 10,
     "metadata": {},
     "output_type": "execute_result"
    },
    {
     "data": {
      "image/png": "[encoded data removed]",
      "text/plain": [
       "<Figure size 432x288 with 1 Axes>"
      ]
     },
     "metadata": {
      "needs_background": "light"
     },
     "output_type": "display_data"
    }
   ],
   "source": [
    "# Creating a box plot to detect outliers\n",
    "plt.boxplot(df.EFGPerc)"
   ]
  },
  {
   "cell_type": "code",
   "execution_count": 11,
   "metadata": {},
   "outputs": [
    {
     "name": "stdout",
     "output_type": "stream",
     "text": [
      "PTS        18.000000\n",
      "FGM         7.000000\n",
      "FGA        10.000000\n",
      "FGPerc      7.400000\n",
      "3PM         5.000000\n",
      "3PA        10.000000\n",
      "3PPerc     13.100000\n",
      "FTM         8.000000\n",
      "FTA        10.000000\n",
      "FTPerc     14.100000\n",
      "OREB        5.000000\n",
      "DREB        8.000000\n",
      "REB         9.000000\n",
      "AST         7.000000\n",
      "STL         4.000000\n",
      "BLK         3.000000\n",
      "TOV         5.000000\n",
      "PF          6.000000\n",
      "EFGPerc     0.088462\n",
      "FTR         0.129167\n",
      "dtype: float64\n"
     ]
    }
   ],
   "source": [
    "# finding IQR for each column\n",
    "Q1 = df.quantile(0.25)\n",
    "Q3 = df.quantile(0.75)\n",
    "IQR = Q3 - Q1\n",
    "print(IQR)"
   ]
  },
  {
   "cell_type": "code",
   "execution_count": 12,
   "metadata": {},
   "outputs": [
    {
     "name": "stdout",
     "output_type": "stream",
     "text": [
      "         PTS    FGM    FGA  FGPerc    3PM    3PA  3PPerc    FTM    FTA  \\\n",
      "0      False  False  False   False  False  False   False  False  False   \n",
      "1      False  False  False   False  False  False   False  False  False   \n",
      "2      False  False  False   False  False  False   False  False  False   \n",
      "3      False  False  False   False  False  False   False  False  False   \n",
      "4      False  False  False   False  False  False   False  False  False   \n",
      "5      False  False  False   False  False  False   False  False  False   \n",
      "6      False  False  False   False  False  False   False  False  False   \n",
      "7      False  False  False   False  False  False   False  False  False   \n",
      "8      False  False  False   False  False  False   False  False  False   \n",
      "9      False  False  False   False  False  False   False  False  False   \n",
      "10     False  False  False   False  False  False   False  False  False   \n",
      "11     False  False  False   False  False  False   False  False  False   \n",
      "12     False  False  False   False  False  False   False  False  False   \n",
      "13     False  False  False   False  False  False   False  False  False   \n",
      "14     False  False  False   False  False  False   False  False  False   \n",
      "15     False  False  False   False  False  False   False  False  False   \n",
      "16     False  False  False   False  False  False   False  False  False   \n",
      "17     False  False  False   False  False  False   False  False  False   \n",
      "18     False  False  False   False  False  False   False  False  False   \n",
      "19     False  False  False   False  False  False   False  False  False   \n",
      "20     False  False  False   False  False  False   False  False  False   \n",
      "21     False  False  False   False  False  False   False  False  False   \n",
      "22     False  False  False   False  False  False   False  False  False   \n",
      "23     False  False  False   False  False  False   False  False  False   \n",
      "24     False  False  False   False  False  False   False  False  False   \n",
      "25     False  False  False   False  False  False   False  False  False   \n",
      "26     False  False  False   False  False  False   False  False  False   \n",
      "27     False  False  False   False  False  False   False  False  False   \n",
      "28     False  False  False   False  False  False   False  False  False   \n",
      "29     False  False  False   False  False  False   False  False  False   \n",
      "...      ...    ...    ...     ...    ...    ...     ...    ...    ...   \n",
      "22667  False  False  False   False  False  False   False  False  False   \n",
      "22668  False  False  False   False  False  False    True  False  False   \n",
      "22669  False  False  False   False  False  False   False  False  False   \n",
      "22670  False  False  False   False  False  False   False  False  False   \n",
      "22671  False  False  False   False  False  False   False  False  False   \n",
      "22672  False  False  False   False  False  False   False  False  False   \n",
      "22673  False  False  False   False  False  False   False  False  False   \n",
      "22674  False  False  False   False  False  False   False  False  False   \n",
      "22675  False  False  False   False  False  False   False  False  False   \n",
      "22676  False  False  False   False  False  False   False  False  False   \n",
      "22677  False  False  False   False  False  False   False  False  False   \n",
      "22678  False  False  False   False  False  False   False  False  False   \n",
      "22679  False  False  False   False  False  False   False  False  False   \n",
      "22680  False  False  False   False  False  False   False  False  False   \n",
      "22681  False  False  False   False  False  False   False  False  False   \n",
      "22682  False  False  False   False  False  False   False  False  False   \n",
      "22683  False  False  False   False  False  False   False  False  False   \n",
      "22684  False  False  False   False  False  False   False  False   True   \n",
      "22685  False  False  False   False  False  False   False  False  False   \n",
      "22686  False  False  False   False  False  False   False  False  False   \n",
      "22687  False  False  False   False  False  False   False  False  False   \n",
      "22688  False  False  False   False  False  False   False  False  False   \n",
      "22689  False  False  False   False  False  False   False  False   True   \n",
      "22690  False  False  False   False  False  False   False  False  False   \n",
      "22691  False  False  False   False  False  False   False  False  False   \n",
      "22692  False  False  False   False  False  False   False  False  False   \n",
      "22693  False  False  False   False  False  False   False  False  False   \n",
      "22694  False  False  False   False  False  False   False  False  False   \n",
      "22695  False  False  False   False  False  False   False  False  False   \n",
      "22696  False  False  False   False  False  False   False  False  False   \n",
      "\n",
      "       FTPerc   OREB   DREB    REB    AST    STL    BLK    TOV     PF  \\\n",
      "0       False  False  False  False  False  False  False  False  False   \n",
      "1       False  False  False  False  False  False  False  False  False   \n",
      "2       False  False  False  False  False  False  False  False  False   \n",
      "3       False  False  False  False  False  False  False  False  False   \n",
      "4       False  False  False  False  False  False  False  False  False   \n",
      "5       False  False  False  False  False  False  False  False  False   \n",
      "6       False  False  False  False  False  False  False  False  False   \n",
      "7       False  False  False  False  False  False  False  False  False   \n",
      "8       False  False  False  False  False  False  False  False  False   \n",
      "9       False  False  False  False  False  False  False  False  False   \n",
      "10      False  False  False  False  False  False  False  False  False   \n",
      "11      False  False  False  False  False  False  False  False  False   \n",
      "12      False  False  False  False  False  False  False  False  False   \n",
      "13      False  False  False  False  False  False  False  False  False   \n",
      "14      False  False   True   True  False  False  False  False  False   \n",
      "15      False  False  False  False  False  False  False  False  False   \n",
      "16      False  False  False  False  False  False  False  False  False   \n",
      "17      False  False  False  False  False  False  False  False  False   \n",
      "18      False  False  False  False  False  False  False  False  False   \n",
      "19      False  False  False  False  False  False  False  False  False   \n",
      "20      False  False  False  False  False  False  False  False  False   \n",
      "21      False  False  False  False  False  False  False  False  False   \n",
      "22      False  False  False  False  False  False   True  False  False   \n",
      "23      False  False  False  False  False  False  False  False  False   \n",
      "24      False  False  False  False  False  False  False  False  False   \n",
      "25      False  False  False  False  False  False  False  False  False   \n",
      "26      False  False  False  False  False  False  False  False  False   \n",
      "27      False  False  False  False  False  False  False  False  False   \n",
      "28      False  False  False  False  False  False  False  False  False   \n",
      "29      False  False  False  False  False  False  False  False  False   \n",
      "...       ...    ...    ...    ...    ...    ...    ...    ...    ...   \n",
      "22667   False   True  False  False  False  False  False  False  False   \n",
      "22668   False  False  False  False  False  False  False  False  False   \n",
      "22669   False  False  False  False  False  False  False  False  False   \n",
      "22670   False  False  False  False  False  False  False  False  False   \n",
      "22671   False  False  False  False  False  False  False  False  False   \n",
      "22672   False  False  False  False  False  False  False  False  False   \n",
      "22673   False  False  False  False  False  False  False  False  False   \n",
      "22674   False  False  False  False  False  False  False  False  False   \n",
      "22675   False  False  False  False  False   True  False  False  False   \n",
      "22676   False  False  False  False  False  False  False  False  False   \n",
      "22677   False  False  False  False  False  False  False  False  False   \n",
      "22678   False  False  False  False  False  False  False  False  False   \n",
      "22679   False  False  False  False  False  False  False  False  False   \n",
      "22680   False  False  False  False  False  False  False  False  False   \n",
      "22681   False  False  False  False  False  False  False  False  False   \n",
      "22682   False  False  False  False  False  False  False  False  False   \n",
      "22683   False  False  False  False  False  False  False  False  False   \n",
      "22684   False  False  False  False  False  False  False  False  False   \n",
      "22685   False  False  False  False  False  False  False  False  False   \n",
      "22686   False  False  False  False  False  False  False  False  False   \n",
      "22687   False  False  False  False  False  False  False  False  False   \n",
      "22688   False  False  False  False  False  False  False  False  False   \n",
      "22689   False  False  False  False  False  False  False  False  False   \n",
      "22690   False  False  False  False  False  False  False  False  False   \n",
      "22691   False  False  False  False  False  False  False  False  False   \n",
      "22692   False  False  False  False  False  False  False  False  False   \n",
      "22693   False  False  False  False  False  False  False  False  False   \n",
      "22694   False  False  False  False  False  False  False  False  False   \n",
      "22695   False  False  False  False  False  False  False   True  False   \n",
      "22696   False  False  False  False  False  False  False   True  False   \n",
      "\n",
      "       EFGPerc    FTR  \n",
      "0        False  False  \n",
      "1        False  False  \n",
      "2        False  False  \n",
      "3        False  False  \n",
      "4        False  False  \n",
      "5        False  False  \n",
      "6        False  False  \n",
      "7        False  False  \n",
      "8        False  False  \n",
      "9        False  False  \n",
      "10       False  False  \n",
      "11       False  False  \n",
      "12       False  False  \n",
      "13       False  False  \n",
      "14       False  False  \n",
      "15       False  False  \n",
      "16       False  False  \n",
      "17       False  False  \n",
      "18       False  False  \n",
      "19       False  False  \n",
      "20       False  False  \n",
      "21       False  False  \n",
      "22       False  False  \n",
      "23       False  False  \n",
      "24       False  False  \n",
      "25       False  False  \n",
      "26       False  False  \n",
      "27       False  False  \n",
      "28       False  False  \n",
      "29       False  False  \n",
      "...        ...    ...  \n",
      "22667    False  False  \n",
      "22668    False  False  \n",
      "22669    False  False  \n",
      "22670    False  False  \n",
      "22671    False  False  \n",
      "22672    False  False  \n",
      "22673    False  False  \n",
      "22674    False  False  \n",
      "22675    False  False  \n",
      "22676    False  False  \n",
      "22677    False  False  \n",
      "22678    False  False  \n",
      "22679    False  False  \n",
      "22680    False  False  \n",
      "22681    False  False  \n",
      "22682    False  False  \n",
      "22683    False  False  \n",
      "22684    False   True  \n",
      "22685    False  False  \n",
      "22686    False  False  \n",
      "22687    False  False  \n",
      "22688    False  False  \n",
      "22689    False   True  \n",
      "22690    False  False  \n",
      "22691    False  False  \n",
      "22692    False  False  \n",
      "22693    False  False  \n",
      "22694    False  False  \n",
      "22695    False  False  \n",
      "22696    False  False  \n",
      "\n",
      "[22695 rows x 20 columns]\n"
     ]
    }
   ],
   "source": [
    "# define upper bound\n",
    "upper = Q3 + 1.5 * IQR\n",
    "# define lower bound \n",
    "lower = Q1 - 1.5 * IQR\n",
    "# define outlier variable \n",
    "# below is equivalent to this formula: outlier = (df < (Q1 - 1.5 * IQR)) | (df > (Q3 + 1.5 * IQR))\n",
    "outlier = (df < lower) | (df > upper)\n",
    "\n",
    "# print out the results\n",
    "# gives the location of the outlier values (indicated by True) based on the bounds defined above \n",
    "print(outlier)"
   ]
  },
  {
   "cell_type": "code",
   "execution_count": 13,
   "metadata": {},
   "outputs": [],
   "source": [
    "# define upper and lower lists\n",
    "upper = []\n",
    "lower = []\n",
    "\n",
    "# create for loop that will iterate over each value in every column\n",
    "for i in df.columns:\n",
    "    # define Q1 and Q3 for each column\n",
    "    Q1 = df[i].quantile(0.25)\n",
    "    Q3 = df[i].quantile(0.75)\n",
    "    # define IQR for each column\n",
    "    IQR = Q3 - Q1\n",
    "    # append empty lists upper and lower\n",
    "    upper_list = Q3 + 1.5 * IQR\n",
    "    upper.append(upper_list)\n",
    "    lower_list = Q1 - 1.5 * IQR\n",
    "    lower.append(lower_list)"
   ]
  },
  {
   "cell_type": "code",
   "execution_count": 14,
   "metadata": {},
   "outputs": [],
   "source": [
    "# define the function that will replace outlier values in each column with the appropriate upper or lower limit \n",
    "def outlier_handling(x, upper, lower):\n",
    "    if x > upper:\n",
    "        x = upper\n",
    "    elif x < lower:\n",
    "            x = lower\n",
    "    else:\n",
    "        pass\n",
    "    return x"
   ]
  },
  {
   "cell_type": "code",
   "execution_count": 15,
   "metadata": {},
   "outputs": [],
   "source": [
    "# apply the outlier handling function to the df dataframe to replace the outlier values in each column\n",
    "for col in df.columns:\n",
    "    q1 = df.loc[:, col].quantile(0.25)\n",
    "    q3 = df.loc[:, col].quantile(0.75)\n",
    "    IQR = q3 - q1\n",
    "    lbound = q1 - 1.5*IQR\n",
    "    ubound = q3 + 1.5*IQR\n",
    "    df.loc[:, col] = df.loc[:, col].apply(lambda x: outlier_handling(x, ubound,lbound))"
   ]
  },
  {
   "cell_type": "markdown",
   "metadata": {},
   "source": [
    "## Going to check and see if worked"
   ]
  },
  {
   "cell_type": "code",
   "execution_count": 16,
   "metadata": {},
   "outputs": [
    {
     "data": {
      "text/plain": [
       "{'whiskers': [<matplotlib.lines.Line2D at 0x7efbf0987eb8>,\n",
       "  <matplotlib.lines.Line2D at 0x7efbf092c278>],\n",
       " 'caps': [<matplotlib.lines.Line2D at 0x7efbf092c5c0>,\n",
       "  <matplotlib.lines.Line2D at 0x7efbf092c908>],\n",
       " 'boxes': [<matplotlib.lines.Line2D at 0x7efbf0987b00>],\n",
       " 'medians': [<matplotlib.lines.Line2D at 0x7efbf092cc50>],\n",
       " 'fliers': [<matplotlib.lines.Line2D at 0x7efbf092cf98>],\n",
       " 'means': []}"
      ]
     },
     "execution_count": 16,
     "metadata": {},
     "output_type": "execute_result"
    },
    {
     "data": {
      "image/png": "[encoded data removed]",
      "text/plain": [
       "<Figure size 432x288 with 1 Axes>"
      ]
     },
     "metadata": {
      "needs_background": "light"
     },
     "output_type": "display_data"
    }
   ],
   "source": [
    "# Creating a box plot to detect outliers\n",
    "plt.boxplot(df.PTS)"
   ]
  },
  {
   "cell_type": "code",
   "execution_count": 17,
   "metadata": {},
   "outputs": [
    {
     "data": {
      "text/plain": [
       "{'whiskers': [<matplotlib.lines.Line2D at 0x7efbf090e390>,\n",
       "  <matplotlib.lines.Line2D at 0x7efbf090e748>],\n",
       " 'caps': [<matplotlib.lines.Line2D at 0x7efbf090ea90>,\n",
       "  <matplotlib.lines.Line2D at 0x7efbf090edd8>],\n",
       " 'boxes': [<matplotlib.lines.Line2D at 0x7efbf090e240>],\n",
       " 'medians': [<matplotlib.lines.Line2D at 0x7efbf0919160>],\n",
       " 'fliers': [<matplotlib.lines.Line2D at 0x7efbf09194a8>],\n",
       " 'means': []}"
      ]
     },
     "execution_count": 17,
     "metadata": {},
     "output_type": "execute_result"
    },
    {
     "data": {
      "image/png": "[encoded data removed]",
      "text/plain": [
       "<Figure size 432x288 with 1 Axes>"
      ]
     },
     "metadata": {
      "needs_background": "light"
     },
     "output_type": "display_data"
    }
   ],
   "source": [
    "# Creating a box plot to detect outliers\n",
    "plt.boxplot(df.AST)"
   ]
  },
  {
   "cell_type": "code",
   "execution_count": 18,
   "metadata": {},
   "outputs": [
    {
     "data": {
      "text/plain": [
       "{'whiskers': [<matplotlib.lines.Line2D at 0x7efbf08e3e48>,\n",
       "  <matplotlib.lines.Line2D at 0x7efbf0872208>],\n",
       " 'caps': [<matplotlib.lines.Line2D at 0x7efbf0872550>,\n",
       "  <matplotlib.lines.Line2D at 0x7efbf0872898>],\n",
       " 'boxes': [<matplotlib.lines.Line2D at 0x7efbf08e3a90>],\n",
       " 'medians': [<matplotlib.lines.Line2D at 0x7efbf0872be0>],\n",
       " 'fliers': [<matplotlib.lines.Line2D at 0x7efbf0872f28>],\n",
       " 'means': []}"
      ]
     },
     "execution_count": 18,
     "metadata": {},
     "output_type": "execute_result"
    },
    {
     "data": {
      "image/png": "[encoded data removed]",
      "text/plain": [
       "<Figure size 432x288 with 1 Axes>"
      ]
     },
     "metadata": {
      "needs_background": "light"
     },
     "output_type": "display_data"
    }
   ],
   "source": [
    "# Creating a box plot to detect outliers\n",
    "plt.boxplot(df.FGA)"
   ]
  },
  {
   "cell_type": "code",
   "execution_count": 19,
   "metadata": {},
   "outputs": [
    {
     "data": {
      "text/plain": [
       "{'whiskers': [<matplotlib.lines.Line2D at 0x7efbf08528d0>,\n",
       "  <matplotlib.lines.Line2D at 0x7efbf0852c88>],\n",
       " 'caps': [<matplotlib.lines.Line2D at 0x7efbf0852fd0>,\n",
       "  <matplotlib.lines.Line2D at 0x7efbf0861358>],\n",
       " 'boxes': [<matplotlib.lines.Line2D at 0x7efbf0852780>],\n",
       " 'medians': [<matplotlib.lines.Line2D at 0x7efbf08616a0>],\n",
       " 'fliers': [<matplotlib.lines.Line2D at 0x7efbf08619e8>],\n",
       " 'means': []}"
      ]
     },
     "execution_count": 19,
     "metadata": {},
     "output_type": "execute_result"
    },
    {
     "data": {
      "image/png": "[encoded data removed]",
      "text/plain": [
       "<Figure size 432x288 with 1 Axes>"
      ]
     },
     "metadata": {
      "needs_background": "light"
     },
     "output_type": "display_data"
    }
   ],
   "source": [
    "# Creating a box plot to detect outliers\n",
    "plt.boxplot(df.REB)"
   ]
  },
  {
   "cell_type": "code",
   "execution_count": 20,
   "metadata": {},
   "outputs": [
    {
     "data": {
      "text/plain": [
       "{'whiskers': [<matplotlib.lines.Line2D at 0x7efbf07b4eb8>,\n",
       "  <matplotlib.lines.Line2D at 0x7efbf07c2240>],\n",
       " 'caps': [<matplotlib.lines.Line2D at 0x7efbf07c2588>,\n",
       "  <matplotlib.lines.Line2D at 0x7efbf07c28d0>],\n",
       " 'boxes': [<matplotlib.lines.Line2D at 0x7efbf07b4ba8>],\n",
       " 'medians': [<matplotlib.lines.Line2D at 0x7efbf07c2c18>],\n",
       " 'fliers': [<matplotlib.lines.Line2D at 0x7efbf07c2f60>],\n",
       " 'means': []}"
      ]
     },
     "execution_count": 20,
     "metadata": {},
     "output_type": "execute_result"
    },
    {
     "data": {
      "image/png": "[encoded data removed]",
      "text/plain": [
       "<Figure size 432x288 with 1 Axes>"
      ]
     },
     "metadata": {
      "needs_background": "light"
     },
     "output_type": "display_data"
    }
   ],
   "source": [
    "# Creating a box plot to detect outliers\n",
    "plt.boxplot(df.TOV)"
   ]
  },
  {
   "cell_type": "code",
   "execution_count": 21,
   "metadata": {},
   "outputs": [
    {
     "data": {
      "text/plain": [
       "{'whiskers': [<matplotlib.lines.Line2D at 0x7efbf0727518>,\n",
       "  <matplotlib.lines.Line2D at 0x7efbf0727860>],\n",
       " 'caps': [<matplotlib.lines.Line2D at 0x7efbf0727ba8>,\n",
       "  <matplotlib.lines.Line2D at 0x7efbf0727ef0>],\n",
       " 'boxes': [<matplotlib.lines.Line2D at 0x7efbf0727208>],\n",
       " 'medians': [<matplotlib.lines.Line2D at 0x7efbf0732278>],\n",
       " 'fliers': [<matplotlib.lines.Line2D at 0x7efbf07325c0>],\n",
       " 'means': []}"
      ]
     },
     "execution_count": 21,
     "metadata": {},
     "output_type": "execute_result"
    },
    {
     "data": {
      "image/png": "[encoded data removed]",
      "text/plain": [
       "<Figure size 432x288 with 1 Axes>"
      ]
     },
     "metadata": {
      "needs_background": "light"
     },
     "output_type": "display_data"
    }
   ],
   "source": [
    "# Creating a box plot to detect outliers\n",
    "plt.boxplot(df.EFGPerc)"
   ]
  },
  {
   "cell_type": "markdown",
   "metadata": {},
   "source": [
    "## IT WORKED!!"
   ]
  },
  {
   "cell_type": "code",
   "execution_count": 22,
   "metadata": {},
   "outputs": [],
   "source": [
    "# export new dataframe to csv\n",
    "df.to_csv('../csv_files/Capstone_p1_iqr.csv')"
   ]
  },
  {
   "cell_type": "code",
   "execution_count": 23,
   "metadata": {},
   "outputs": [],
   "source": [
    "# Saving Y (Target) to a csv\n",
    "dfy.to_csv('../csv_files/TargetVariable_p1.csv')"
   ]
  },
  {
   "cell_type": "code",
   "execution_count": null,
   "metadata": {},
   "outputs": [],
   "source": []
  }
 ],
 "metadata": {
  "kernelspec": {
   "display_name": "Python 3",
   "language": "python",
   "name": "python3"
  },
  "language_info": {
   "codemirror_mode": {
    "name": "ipython",
    "version": 3
   },
   "file_extension": ".py",
   "mimetype": "text/x-python",
   "name": "python",
   "nbconvert_exporter": "python",
   "pygments_lexer": "ipython3",
   "version": "3.6.7"
  }
 },
 "nbformat": 4,
 "nbformat_minor": 2
}
