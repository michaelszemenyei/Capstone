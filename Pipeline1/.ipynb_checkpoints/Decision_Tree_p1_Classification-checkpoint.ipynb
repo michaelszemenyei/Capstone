{
 "cells": [
  {
   "cell_type": "markdown",
   "metadata": {},
   "source": [
    "## Decision Tree - Pipeline 1"
   ]
  },
  {
   "cell_type": "code",
   "execution_count": 1,
   "metadata": {},
   "outputs": [
    {
     "name": "stderr",
     "output_type": "stream",
     "text": [
      "/opt/tljh/user/lib/python3.6/site-packages/sklearn/externals/six.py:31: DeprecationWarning: The module is deprecated in version 0.21 and will be removed in version 0.23 since we've dropped support for Python 2.7. Please rely on the official version of six (https://pypi.org/project/six/).\n",
      "  \"(https://pypi.org/project/six/).\", DeprecationWarning)\n"
     ]
    }
   ],
   "source": [
    "# import required package for data handling\n",
    "import pandas as pd\n",
    "import numpy as np\n",
    "\n",
    "# import required packages for splitting data\n",
    "from sklearn import model_selection\n",
    "from sklearn.model_selection import cross_val_score\n",
    "from sklearn.model_selection import train_test_split\n",
    "\n",
    "# import required packages for evaluating models\n",
    "from sklearn import metrics\n",
    "from sklearn.metrics import confusion_matrix\n",
    "from sklearn.metrics import classification_report\n",
    "from sklearn.metrics import roc_auc_score\n",
    "from sklearn.metrics import accuracy_score\n",
    "from sklearn.metrics import precision_recall_fscore_support\n",
    "\n",
    "# import the packages needed for the Decision Tree\n",
    "from sklearn.tree import DecisionTreeClassifier  \n",
    "from sklearn.tree import export_graphviz\n",
    "from sklearn.externals.six import StringIO  \n",
    "from IPython.display import Image  \n",
    "import pydotplus"
   ]
  },
  {
   "cell_type": "code",
   "execution_count": 2,
   "metadata": {},
   "outputs": [
    {
     "data": {
      "text/html": [
       "<div>\n",
       "<style scoped>\n",
       "    .dataframe tbody tr th:only-of-type {\n",
       "        vertical-align: middle;\n",
       "    }\n",
       "\n",
       "    .dataframe tbody tr th {\n",
       "        vertical-align: top;\n",
       "    }\n",
       "\n",
       "    .dataframe thead th {\n",
       "        text-align: right;\n",
       "    }\n",
       "</style>\n",
       "<table border=\"1\" class=\"dataframe\">\n",
       "  <thead>\n",
       "    <tr style=\"text-align: right;\">\n",
       "      <th></th>\n",
       "      <th>H_FTPct</th>\n",
       "      <th>H_EFGPct</th>\n",
       "      <th>H_ThreePARt</th>\n",
       "      <th>H_FTR</th>\n",
       "      <th>H_REBPct</th>\n",
       "      <th>H_BLKPct</th>\n",
       "      <th>H_AST_TOV_Ratio</th>\n",
       "      <th>A_FTPct</th>\n",
       "      <th>A_EFGPct</th>\n",
       "      <th>A_ThreePARt</th>\n",
       "      <th>A_FTR</th>\n",
       "      <th>A_REBPct</th>\n",
       "      <th>A_BLKPct</th>\n",
       "      <th>A_AST_TOV_Ratio</th>\n",
       "      <th>Target</th>\n",
       "    </tr>\n",
       "  </thead>\n",
       "  <tbody>\n",
       "    <tr>\n",
       "      <th>0</th>\n",
       "      <td>0.672228</td>\n",
       "      <td>0.357844</td>\n",
       "      <td>0.718132</td>\n",
       "      <td>0.601149</td>\n",
       "      <td>0.498663</td>\n",
       "      <td>0.265413</td>\n",
       "      <td>0.671275</td>\n",
       "      <td>0.907603</td>\n",
       "      <td>0.867653</td>\n",
       "      <td>0.864242</td>\n",
       "      <td>0.480322</td>\n",
       "      <td>0.501337</td>\n",
       "      <td>0.855860</td>\n",
       "      <td>0.773579</td>\n",
       "      <td>0</td>\n",
       "    </tr>\n",
       "    <tr>\n",
       "      <th>1</th>\n",
       "      <td>0.774289</td>\n",
       "      <td>0.272976</td>\n",
       "      <td>0.736725</td>\n",
       "      <td>0.499349</td>\n",
       "      <td>0.615201</td>\n",
       "      <td>0.176942</td>\n",
       "      <td>0.489684</td>\n",
       "      <td>0.749759</td>\n",
       "      <td>0.621326</td>\n",
       "      <td>0.758603</td>\n",
       "      <td>0.528431</td>\n",
       "      <td>0.384799</td>\n",
       "      <td>0.414273</td>\n",
       "      <td>0.799606</td>\n",
       "      <td>0</td>\n",
       "    </tr>\n",
       "  </tbody>\n",
       "</table>\n",
       "</div>"
      ],
      "text/plain": [
       "    H_FTPct  H_EFGPct  H_ThreePARt     H_FTR  H_REBPct  H_BLKPct  \\\n",
       "0  0.672228  0.357844     0.718132  0.601149  0.498663  0.265413   \n",
       "1  0.774289  0.272976     0.736725  0.499349  0.615201  0.176942   \n",
       "\n",
       "   H_AST_TOV_Ratio   A_FTPct  A_EFGPct  A_ThreePARt     A_FTR  A_REBPct  \\\n",
       "0         0.671275  0.907603  0.867653     0.864242  0.480322  0.501337   \n",
       "1         0.489684  0.749759  0.621326     0.758603  0.528431  0.384799   \n",
       "\n",
       "   A_BLKPct  A_AST_TOV_Ratio  Target  \n",
       "0  0.855860         0.773579       0  \n",
       "1  0.414273         0.799606       0  "
      ]
     },
     "execution_count": 2,
     "metadata": {},
     "output_type": "execute_result"
    }
   ],
   "source": [
    "# read in the csv\n",
    "df = pd.read_csv('../csv_files/Capstone_p1_final_Classification.csv',index_col=0)\n",
    "df.head(2)"
   ]
  },
  {
   "cell_type": "code",
   "execution_count": 3,
   "metadata": {},
   "outputs": [],
   "source": [
    "# Splitting up our data into variable and target data\n",
    "X = df.iloc[:, :-1] # Variable\n",
    "Y = df.Target # Target"
   ]
  },
  {
   "cell_type": "code",
   "execution_count": 4,
   "metadata": {},
   "outputs": [],
   "source": [
    "# Split dataset into training set and test set\n",
    "# 70% training and 30% test\n",
    "X_train, X_test, Y_train, Y_test = train_test_split(X, Y, test_size=0.3, random_state=2019)"
   ]
  },
  {
   "cell_type": "code",
   "execution_count": 5,
   "metadata": {},
   "outputs": [],
   "source": [
    "# import the RandomOverSampler package from imblearn \n",
    "from imblearn.over_sampling import RandomOverSampler\n",
    "\n",
    "# define the model\n",
    "ros = RandomOverSampler(random_state=2019)\n",
    "\n",
    "# fit the data only to the RandomOverSampler model\n",
    "# this will help address the imbalanced nature of the target variable \n",
    "X_train_resample, Y_train_resample = ros.fit_resample(X_train, Y_train)"
   ]
  },
  {
   "cell_type": "code",
   "execution_count": 6,
   "metadata": {},
   "outputs": [],
   "source": [
    "# Create Decision Tree classifer object\n",
    "clf = DecisionTreeClassifier(max_depth=9, max_features=8, criterion='gini', splitter='best', random_state=2019)\n",
    "\n",
    "# Train Decision Tree Classifer\n",
    "clf = clf.fit(X_train_resample,Y_train_resample)\n",
    "\n",
    "#Predict the response for test dataset\n",
    "Y_pred = clf.predict(X_test)"
   ]
  },
  {
   "cell_type": "code",
   "execution_count": 7,
   "metadata": {},
   "outputs": [
    {
     "name": "stdout",
     "output_type": "stream",
     "text": [
      "Accuracy: 0.8236289776574137\n",
      "              precision    recall  f1-score   support\n",
      "\n",
      "           0       0.79      0.79      0.79      1245\n",
      "           1       0.85      0.85      0.85      1709\n",
      "\n",
      "    accuracy                           0.82      2954\n",
      "   macro avg       0.82      0.82      0.82      2954\n",
      "weighted avg       0.82      0.82      0.82      2954\n",
      "\n",
      "[[ 984  261]\n",
      " [ 260 1449]]\n"
     ]
    }
   ],
   "source": [
    "# Model Accuracy, how often is the Decision Tree correct?\n",
    "print(\"Accuracy:\",metrics.accuracy_score(Y_test, Y_pred))\n",
    "\n",
    "# We are going to look at the classification report and also the confusion matrix for the Decision Tree  \n",
    "print(metrics.classification_report(Y_test, Y_pred))\n",
    "print(metrics.confusion_matrix(Y_test, Y_pred))"
   ]
  },
  {
   "cell_type": "code",
   "execution_count": 8,
   "metadata": {},
   "outputs": [
    {
     "name": "stdout",
     "output_type": "stream",
     "text": [
      "Accuracy: 0.8236289776574137\n",
      "F1_Score: 0.8236193403394515\n",
      "AUC: 0.8191128469407178\n"
     ]
    }
   ],
   "source": [
    "# Calculating accuracy, F1 score, and AUC \n",
    "print('Accuracy:', metrics.accuracy_score(Y_test, Y_pred))\n",
    "print('F1_Score:', metrics.f1_score(Y_test, Y_pred, average='weighted'))\n",
    "print('AUC:', metrics.roc_auc_score(Y_test, Y_pred, average='weighted'))"
   ]
  },
  {
   "cell_type": "code",
   "execution_count": 9,
   "metadata": {},
   "outputs": [
    {
     "data": {
      "text/plain": [
       "H_EFGPct           0.295884\n",
       "A_EFGPct           0.279372\n",
       "A_AST_TOV_Ratio    0.096050\n",
       "H_AST_TOV_Ratio    0.090899\n",
       "H_REBPct           0.083958\n",
       "A_REBPct           0.037977\n",
       "H_FTR              0.024302\n",
       "A_FTR              0.023873\n",
       "A_FTPct            0.016417\n",
       "H_FTPct            0.014259\n",
       "A_ThreePARt        0.013058\n",
       "H_BLKPct           0.009085\n",
       "A_BLKPct           0.007679\n",
       "H_ThreePARt        0.007188\n",
       "dtype: float64"
      ]
     },
     "execution_count": 9,
     "metadata": {},
     "output_type": "execute_result"
    }
   ],
   "source": [
    "# Displaying the feature importance\n",
    "# define the feature importance variable \n",
    "# use the feature importance values from the decision tree above, sort in descending order \n",
    "feature_imp = pd.Series(clf.feature_importances_,index=df.iloc[:,:-1].columns).sort_values(ascending=False)\n",
    "\n",
    "# print the results \n",
    "feature_imp"
   ]
  },
  {
   "cell_type": "code",
   "execution_count": null,
   "metadata": {},
   "outputs": [],
   "source": []
  }
 ],
 "metadata": {
  "kernelspec": {
   "display_name": "Python 3",
   "language": "python",
   "name": "python3"
  },
  "language_info": {
   "codemirror_mode": {
    "name": "ipython",
    "version": 3
   },
   "file_extension": ".py",
   "mimetype": "text/x-python",
   "name": "python",
   "nbconvert_exporter": "python",
   "pygments_lexer": "ipython3",
   "version": "3.6.7"
  }
 },
 "nbformat": 4,
 "nbformat_minor": 2
}
