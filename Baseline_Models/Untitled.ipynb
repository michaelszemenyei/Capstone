{
 "cells": [
  {
   "cell_type": "code",
   "execution_count": 4,
   "metadata": {},
   "outputs": [],
   "source": [
    "import pandas as pd\n",
    "import matplotlib as plt"
   ]
  },
  {
   "cell_type": "code",
   "execution_count": 5,
   "metadata": {},
   "outputs": [
    {
     "data": {
      "text/html": [
       "<div>\n",
       "<style scoped>\n",
       "    .dataframe tbody tr th:only-of-type {\n",
       "        vertical-align: middle;\n",
       "    }\n",
       "\n",
       "    .dataframe tbody tr th {\n",
       "        vertical-align: top;\n",
       "    }\n",
       "\n",
       "    .dataframe thead th {\n",
       "        text-align: right;\n",
       "    }\n",
       "</style>\n",
       "<table border=\"1\" class=\"dataframe\">\n",
       "  <thead>\n",
       "    <tr style=\"text-align: right;\">\n",
       "      <th></th>\n",
       "      <th>H_FTPct</th>\n",
       "      <th>H_EFGPct</th>\n",
       "      <th>H_ThreePARt</th>\n",
       "      <th>H_FTR</th>\n",
       "      <th>H_REBPct</th>\n",
       "      <th>H_BLKPct</th>\n",
       "      <th>H_AST_TOV_Ratio</th>\n",
       "      <th>A_FTPct</th>\n",
       "      <th>A_EFGPct</th>\n",
       "      <th>A_ThreePARt</th>\n",
       "      <th>A_FTR</th>\n",
       "      <th>A_REBPct</th>\n",
       "      <th>A_BLKPct</th>\n",
       "      <th>A_AST_TOV_Ratio</th>\n",
       "      <th>Target</th>\n",
       "    </tr>\n",
       "  </thead>\n",
       "  <tbody>\n",
       "    <tr>\n",
       "      <th>0</th>\n",
       "      <td>0.833</td>\n",
       "      <td>0.461538</td>\n",
       "      <td>0.395604</td>\n",
       "      <td>0.329670</td>\n",
       "      <td>0.506173</td>\n",
       "      <td>0.036585</td>\n",
       "      <td>1.785714</td>\n",
       "      <td>0.952</td>\n",
       "      <td>0.628049</td>\n",
       "      <td>0.463415</td>\n",
       "      <td>0.256098</td>\n",
       "      <td>0.493827</td>\n",
       "      <td>0.109890</td>\n",
       "      <td>2.142857</td>\n",
       "      <td>0</td>\n",
       "    </tr>\n",
       "    <tr>\n",
       "      <th>1</th>\n",
       "      <td>0.885</td>\n",
       "      <td>0.430851</td>\n",
       "      <td>0.404255</td>\n",
       "      <td>0.276596</td>\n",
       "      <td>0.538462</td>\n",
       "      <td>0.024390</td>\n",
       "      <td>1.133333</td>\n",
       "      <td>0.870</td>\n",
       "      <td>0.542683</td>\n",
       "      <td>0.414634</td>\n",
       "      <td>0.280488</td>\n",
       "      <td>0.461538</td>\n",
       "      <td>0.053191</td>\n",
       "      <td>2.266667</td>\n",
       "      <td>0</td>\n",
       "    </tr>\n",
       "  </tbody>\n",
       "</table>\n",
       "</div>"
      ],
      "text/plain": [
       "   H_FTPct  H_EFGPct  H_ThreePARt     H_FTR  H_REBPct  H_BLKPct  \\\n",
       "0    0.833  0.461538     0.395604  0.329670  0.506173  0.036585   \n",
       "1    0.885  0.430851     0.404255  0.276596  0.538462  0.024390   \n",
       "\n",
       "   H_AST_TOV_Ratio  A_FTPct  A_EFGPct  A_ThreePARt     A_FTR  A_REBPct  \\\n",
       "0         1.785714    0.952  0.628049     0.463415  0.256098  0.493827   \n",
       "1         1.133333    0.870  0.542683     0.414634  0.280488  0.461538   \n",
       "\n",
       "   A_BLKPct  A_AST_TOV_Ratio  Target  \n",
       "0  0.109890         2.142857       0  \n",
       "1  0.053191         2.266667       0  "
      ]
     },
     "execution_count": 5,
     "metadata": {},
     "output_type": "execute_result"
    }
   ],
   "source": [
    "# read in the csv\n",
    "df = pd.read_csv('../csv_files/Model_Ready_Classification.csv',index_col=0)\n",
    "df.head(2)"
   ]
  },
  {
   "cell_type": "code",
   "execution_count": 9,
   "metadata": {},
   "outputs": [
    {
     "data": {
      "text/plain": [
       "<matplotlib.axes._subplots.AxesSubplot at 0x7fdfde4302b0>"
      ]
     },
     "execution_count": 9,
     "metadata": {},
     "output_type": "execute_result"
    },
    {
     "data": {
      "image/png": "[encoded data removed]",
      "text/plain": [
       "<Figure size 432x288 with 1 Axes>"
      ]
     },
     "metadata": {
      "needs_background": "light"
     },
     "output_type": "display_data"
    }
   ],
   "source": [
    "# Looking at the target variable\n",
    "df['Target'].value_counts().plot(kind='bar', title=\"Target Variable. Win (1) vs Loss (0) \")\n"
   ]
  },
  {
   "cell_type": "code",
   "execution_count": 10,
   "metadata": {},
   "outputs": [
    {
     "data": {
      "text/plain": [
       "1    5780\n",
       "0    4064\n",
       "Name: Target, dtype: int64"
      ]
     },
     "execution_count": 10,
     "metadata": {},
     "output_type": "execute_result"
    }
   ],
   "source": [
    "df['Target'].value_counts()"
   ]
  },
  {
   "cell_type": "code",
   "execution_count": null,
   "metadata": {},
   "outputs": [],
   "source": []
  }
 ],
 "metadata": {
  "kernelspec": {
   "display_name": "Python 3",
   "language": "python",
   "name": "python3"
  },
  "language_info": {
   "codemirror_mode": {
    "name": "ipython",
    "version": 3
   },
   "file_extension": ".py",
   "mimetype": "text/x-python",
   "name": "python",
   "nbconvert_exporter": "python",
   "pygments_lexer": "ipython3",
   "version": "3.6.7"
  }
 },
 "nbformat": 4,
 "nbformat_minor": 2
}
