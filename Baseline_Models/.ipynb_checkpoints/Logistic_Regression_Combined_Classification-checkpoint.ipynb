{
 "cells": [
  {
   "cell_type": "markdown",
   "metadata": {},
   "source": [
    "## Logistic Regression - Combined"
   ]
  },
  {
   "cell_type": "code",
   "execution_count": 1,
   "metadata": {},
   "outputs": [],
   "source": [
    "# import required package for data handling\n",
    "import pandas as pd\n",
    "import numpy as np\n",
    "\n",
    "# import required packages for splitting data\n",
    "from sklearn import model_selection\n",
    "from sklearn.model_selection import cross_val_score\n",
    "from sklearn.model_selection import train_test_split\n",
    "\n",
    "# import required packages for evaluating models\n",
    "from sklearn import metrics\n",
    "from sklearn.metrics import confusion_matrix\n",
    "from sklearn.metrics import classification_report\n",
    "from sklearn.metrics import roc_auc_score\n",
    "from sklearn.metrics import accuracy_score\n",
    "from sklearn.metrics import precision_recall_fscore_support\n",
    "\n",
    "# import `logistic regression` model\n",
    "from sklearn.linear_model import LogisticRegression\n",
    "from sklearn.feature_selection import RFE\n",
    "from sklearn.metrics import r2_score"
   ]
  },
  {
   "cell_type": "code",
   "execution_count": 2,
   "metadata": {},
   "outputs": [
    {
     "data": {
      "text/html": [
       "<div>\n",
       "<style scoped>\n",
       "    .dataframe tbody tr th:only-of-type {\n",
       "        vertical-align: middle;\n",
       "    }\n",
       "\n",
       "    .dataframe tbody tr th {\n",
       "        vertical-align: top;\n",
       "    }\n",
       "\n",
       "    .dataframe thead th {\n",
       "        text-align: right;\n",
       "    }\n",
       "</style>\n",
       "<table border=\"1\" class=\"dataframe\">\n",
       "  <thead>\n",
       "    <tr style=\"text-align: right;\">\n",
       "      <th></th>\n",
       "      <th>H_FTPct</th>\n",
       "      <th>H_EFGPct</th>\n",
       "      <th>H_ThreePARt</th>\n",
       "      <th>H_FTR</th>\n",
       "      <th>H_REBPct</th>\n",
       "      <th>H_BLKPct</th>\n",
       "      <th>H_AST_TOV_Ratio</th>\n",
       "      <th>A_FTPct</th>\n",
       "      <th>A_EFGPct</th>\n",
       "      <th>A_ThreePARt</th>\n",
       "      <th>A_FTR</th>\n",
       "      <th>A_REBPct</th>\n",
       "      <th>A_BLKPct</th>\n",
       "      <th>A_AST_TOV_Ratio</th>\n",
       "      <th>Target</th>\n",
       "    </tr>\n",
       "  </thead>\n",
       "  <tbody>\n",
       "    <tr>\n",
       "      <th>0</th>\n",
       "      <td>0.833</td>\n",
       "      <td>0.461538</td>\n",
       "      <td>0.395604</td>\n",
       "      <td>0.329670</td>\n",
       "      <td>0.506173</td>\n",
       "      <td>0.036585</td>\n",
       "      <td>1.785714</td>\n",
       "      <td>0.952</td>\n",
       "      <td>0.628049</td>\n",
       "      <td>0.463415</td>\n",
       "      <td>0.256098</td>\n",
       "      <td>0.493827</td>\n",
       "      <td>0.109890</td>\n",
       "      <td>2.142857</td>\n",
       "      <td>0</td>\n",
       "    </tr>\n",
       "    <tr>\n",
       "      <th>1</th>\n",
       "      <td>0.885</td>\n",
       "      <td>0.430851</td>\n",
       "      <td>0.404255</td>\n",
       "      <td>0.276596</td>\n",
       "      <td>0.538462</td>\n",
       "      <td>0.024390</td>\n",
       "      <td>1.133333</td>\n",
       "      <td>0.870</td>\n",
       "      <td>0.542683</td>\n",
       "      <td>0.414634</td>\n",
       "      <td>0.280488</td>\n",
       "      <td>0.461538</td>\n",
       "      <td>0.053191</td>\n",
       "      <td>2.266667</td>\n",
       "      <td>0</td>\n",
       "    </tr>\n",
       "  </tbody>\n",
       "</table>\n",
       "</div>"
      ],
      "text/plain": [
       "   H_FTPct  H_EFGPct  H_ThreePARt     H_FTR  H_REBPct  H_BLKPct  \\\n",
       "0    0.833  0.461538     0.395604  0.329670  0.506173  0.036585   \n",
       "1    0.885  0.430851     0.404255  0.276596  0.538462  0.024390   \n",
       "\n",
       "   H_AST_TOV_Ratio  A_FTPct  A_EFGPct  A_ThreePARt     A_FTR  A_REBPct  \\\n",
       "0         1.785714    0.952  0.628049     0.463415  0.256098  0.493827   \n",
       "1         1.133333    0.870  0.542683     0.414634  0.280488  0.461538   \n",
       "\n",
       "   A_BLKPct  A_AST_TOV_Ratio  Target  \n",
       "0  0.109890         2.142857       0  \n",
       "1  0.053191         2.266667       0  "
      ]
     },
     "execution_count": 2,
     "metadata": {},
     "output_type": "execute_result"
    }
   ],
   "source": [
    "# read in the csv\n",
    "df = pd.read_csv('../csv_files/Model_Ready_Classification.csv',index_col=0)\n",
    "df.head(2)"
   ]
  },
  {
   "cell_type": "code",
   "execution_count": 3,
   "metadata": {},
   "outputs": [],
   "source": [
    "# Splitting up our data into variable and target data\n",
    "X = df.iloc[:, :-1] # Variable\n",
    "Y = df.Target # Target"
   ]
  },
  {
   "cell_type": "code",
   "execution_count": 4,
   "metadata": {},
   "outputs": [],
   "source": [
    "# Split dataset into training set and test set\n",
    "# 70% training and 30% test\n",
    "X_train, X_test, Y_train, Y_test = train_test_split(X, Y, test_size=0.3, random_state=2019)"
   ]
  },
  {
   "cell_type": "code",
   "execution_count": 5,
   "metadata": {},
   "outputs": [],
   "source": [
    "# initiate the logistic regression function \n",
    "logreg = LogisticRegression(solver='liblinear')\n",
    "\n",
    "# pass the training data into the model. This training data includes all of the independent variables \n",
    "logreg = logreg.fit(X_train,Y_train) \n",
    "\n",
    "# tell the model what to predict, or in this case classify, and what variables to use to predict the dependent variable \n",
    "Y_pred=logreg.predict(X_test)"
   ]
  },
  {
   "cell_type": "code",
   "execution_count": 6,
   "metadata": {},
   "outputs": [
    {
     "data": {
      "text/plain": [
       "Index(['H_FTPct', 'H_EFGPct', 'H_ThreePARt', 'H_FTR', 'H_REBPct', 'H_BLKPct',\n",
       "       'H_AST_TOV_Ratio', 'A_FTPct', 'A_EFGPct', 'A_ThreePARt', 'A_FTR',\n",
       "       'A_REBPct', 'A_BLKPct', 'A_AST_TOV_Ratio'],\n",
       "      dtype='object')"
      ]
     },
     "execution_count": 6,
     "metadata": {},
     "output_type": "execute_result"
    }
   ],
   "source": [
    "X.columns"
   ]
  },
  {
   "cell_type": "code",
   "execution_count": 7,
   "metadata": {},
   "outputs": [],
   "source": [
    "array = logreg.coef_\n",
    "arrayT = array.T"
   ]
  },
  {
   "cell_type": "code",
   "execution_count": 8,
   "metadata": {},
   "outputs": [
    {
     "data": {
      "text/html": [
       "<div>\n",
       "<style scoped>\n",
       "    .dataframe tbody tr th:only-of-type {\n",
       "        vertical-align: middle;\n",
       "    }\n",
       "\n",
       "    .dataframe tbody tr th {\n",
       "        vertical-align: top;\n",
       "    }\n",
       "\n",
       "    .dataframe thead th {\n",
       "        text-align: right;\n",
       "    }\n",
       "</style>\n",
       "<table border=\"1\" class=\"dataframe\">\n",
       "  <thead>\n",
       "    <tr style=\"text-align: right;\">\n",
       "      <th></th>\n",
       "      <th>0</th>\n",
       "      <th>coef</th>\n",
       "    </tr>\n",
       "  </thead>\n",
       "  <tbody>\n",
       "    <tr>\n",
       "      <th>0</th>\n",
       "      <td>H_FTPct</td>\n",
       "      <td>3.006877</td>\n",
       "    </tr>\n",
       "    <tr>\n",
       "      <th>1</th>\n",
       "      <td>H_EFGPct</td>\n",
       "      <td>16.985417</td>\n",
       "    </tr>\n",
       "    <tr>\n",
       "      <th>2</th>\n",
       "      <td>H_ThreePARt</td>\n",
       "      <td>-0.075831</td>\n",
       "    </tr>\n",
       "    <tr>\n",
       "      <th>3</th>\n",
       "      <td>H_FTR</td>\n",
       "      <td>5.458860</td>\n",
       "    </tr>\n",
       "    <tr>\n",
       "      <th>4</th>\n",
       "      <td>H_REBPct</td>\n",
       "      <td>8.340661</td>\n",
       "    </tr>\n",
       "    <tr>\n",
       "      <th>5</th>\n",
       "      <td>H_BLKPct</td>\n",
       "      <td>1.966318</td>\n",
       "    </tr>\n",
       "    <tr>\n",
       "      <th>6</th>\n",
       "      <td>H_AST_TOV_Ratio</td>\n",
       "      <td>1.324493</td>\n",
       "    </tr>\n",
       "    <tr>\n",
       "      <th>7</th>\n",
       "      <td>A_FTPct</td>\n",
       "      <td>-2.668990</td>\n",
       "    </tr>\n",
       "    <tr>\n",
       "      <th>8</th>\n",
       "      <td>A_EFGPct</td>\n",
       "      <td>-16.485376</td>\n",
       "    </tr>\n",
       "    <tr>\n",
       "      <th>9</th>\n",
       "      <td>A_ThreePARt</td>\n",
       "      <td>-0.237957</td>\n",
       "    </tr>\n",
       "    <tr>\n",
       "      <th>10</th>\n",
       "      <td>A_FTR</td>\n",
       "      <td>-5.108213</td>\n",
       "    </tr>\n",
       "    <tr>\n",
       "      <th>11</th>\n",
       "      <td>A_REBPct</td>\n",
       "      <td>-8.534190</td>\n",
       "    </tr>\n",
       "    <tr>\n",
       "      <th>12</th>\n",
       "      <td>A_BLKPct</td>\n",
       "      <td>-0.820469</td>\n",
       "    </tr>\n",
       "    <tr>\n",
       "      <th>13</th>\n",
       "      <td>A_AST_TOV_Ratio</td>\n",
       "      <td>-1.429018</td>\n",
       "    </tr>\n",
       "  </tbody>\n",
       "</table>\n",
       "</div>"
      ],
      "text/plain": [
       "                  0       coef\n",
       "0           H_FTPct   3.006877\n",
       "1          H_EFGPct  16.985417\n",
       "2       H_ThreePARt  -0.075831\n",
       "3             H_FTR   5.458860\n",
       "4          H_REBPct   8.340661\n",
       "5          H_BLKPct   1.966318\n",
       "6   H_AST_TOV_Ratio   1.324493\n",
       "7           A_FTPct  -2.668990\n",
       "8          A_EFGPct -16.485376\n",
       "9       A_ThreePARt  -0.237957\n",
       "10            A_FTR  -5.108213\n",
       "11         A_REBPct  -8.534190\n",
       "12         A_BLKPct  -0.820469\n",
       "13  A_AST_TOV_Ratio  -1.429018"
      ]
     },
     "execution_count": 8,
     "metadata": {},
     "output_type": "execute_result"
    }
   ],
   "source": [
    "coef = pd.DataFrame(X.columns)\n",
    "coef['coef'] = arrayT\n",
    "coef"
   ]
  },
  {
   "cell_type": "code",
   "execution_count": 9,
   "metadata": {},
   "outputs": [
    {
     "data": {
      "text/html": [
       "<div>\n",
       "<style scoped>\n",
       "    .dataframe tbody tr th:only-of-type {\n",
       "        vertical-align: middle;\n",
       "    }\n",
       "\n",
       "    .dataframe tbody tr th {\n",
       "        vertical-align: top;\n",
       "    }\n",
       "\n",
       "    .dataframe thead th {\n",
       "        text-align: right;\n",
       "    }\n",
       "</style>\n",
       "<table border=\"1\" class=\"dataframe\">\n",
       "  <thead>\n",
       "    <tr style=\"text-align: right;\">\n",
       "      <th></th>\n",
       "      <th>0</th>\n",
       "      <th>coef</th>\n",
       "    </tr>\n",
       "  </thead>\n",
       "  <tbody>\n",
       "    <tr>\n",
       "      <th>8</th>\n",
       "      <td>A_EFGPct</td>\n",
       "      <td>-16.485376</td>\n",
       "    </tr>\n",
       "    <tr>\n",
       "      <th>11</th>\n",
       "      <td>A_REBPct</td>\n",
       "      <td>-8.534190</td>\n",
       "    </tr>\n",
       "    <tr>\n",
       "      <th>10</th>\n",
       "      <td>A_FTR</td>\n",
       "      <td>-5.108213</td>\n",
       "    </tr>\n",
       "    <tr>\n",
       "      <th>7</th>\n",
       "      <td>A_FTPct</td>\n",
       "      <td>-2.668990</td>\n",
       "    </tr>\n",
       "    <tr>\n",
       "      <th>13</th>\n",
       "      <td>A_AST_TOV_Ratio</td>\n",
       "      <td>-1.429018</td>\n",
       "    </tr>\n",
       "    <tr>\n",
       "      <th>12</th>\n",
       "      <td>A_BLKPct</td>\n",
       "      <td>-0.820469</td>\n",
       "    </tr>\n",
       "    <tr>\n",
       "      <th>9</th>\n",
       "      <td>A_ThreePARt</td>\n",
       "      <td>-0.237957</td>\n",
       "    </tr>\n",
       "    <tr>\n",
       "      <th>2</th>\n",
       "      <td>H_ThreePARt</td>\n",
       "      <td>-0.075831</td>\n",
       "    </tr>\n",
       "    <tr>\n",
       "      <th>6</th>\n",
       "      <td>H_AST_TOV_Ratio</td>\n",
       "      <td>1.324493</td>\n",
       "    </tr>\n",
       "    <tr>\n",
       "      <th>5</th>\n",
       "      <td>H_BLKPct</td>\n",
       "      <td>1.966318</td>\n",
       "    </tr>\n",
       "    <tr>\n",
       "      <th>0</th>\n",
       "      <td>H_FTPct</td>\n",
       "      <td>3.006877</td>\n",
       "    </tr>\n",
       "    <tr>\n",
       "      <th>3</th>\n",
       "      <td>H_FTR</td>\n",
       "      <td>5.458860</td>\n",
       "    </tr>\n",
       "    <tr>\n",
       "      <th>4</th>\n",
       "      <td>H_REBPct</td>\n",
       "      <td>8.340661</td>\n",
       "    </tr>\n",
       "    <tr>\n",
       "      <th>1</th>\n",
       "      <td>H_EFGPct</td>\n",
       "      <td>16.985417</td>\n",
       "    </tr>\n",
       "  </tbody>\n",
       "</table>\n",
       "</div>"
      ],
      "text/plain": [
       "                  0       coef\n",
       "8          A_EFGPct -16.485376\n",
       "11         A_REBPct  -8.534190\n",
       "10            A_FTR  -5.108213\n",
       "7           A_FTPct  -2.668990\n",
       "13  A_AST_TOV_Ratio  -1.429018\n",
       "12         A_BLKPct  -0.820469\n",
       "9       A_ThreePARt  -0.237957\n",
       "2       H_ThreePARt  -0.075831\n",
       "6   H_AST_TOV_Ratio   1.324493\n",
       "5          H_BLKPct   1.966318\n",
       "0           H_FTPct   3.006877\n",
       "3             H_FTR   5.458860\n",
       "4          H_REBPct   8.340661\n",
       "1          H_EFGPct  16.985417"
      ]
     },
     "execution_count": 9,
     "metadata": {},
     "output_type": "execute_result"
    }
   ],
   "source": [
    "coef.sort_values('coef')"
   ]
  },
  {
   "cell_type": "code",
   "execution_count": 10,
   "metadata": {},
   "outputs": [
    {
     "name": "stdout",
     "output_type": "stream",
     "text": [
      "[[  3.00687701]\n",
      " [ 16.98541736]\n",
      " [ -0.0758306 ]\n",
      " [  5.45886042]\n",
      " [  8.34066052]\n",
      " [  1.9663178 ]\n",
      " [  1.32449325]\n",
      " [ -2.66899028]\n",
      " [-16.4853755 ]\n",
      " [ -0.23795665]\n",
      " [ -5.10821253]\n",
      " [ -8.53419026]\n",
      " [ -0.82046932]\n",
      " [ -1.429018  ]]\n"
     ]
    }
   ],
   "source": [
    "print(array.T)"
   ]
  },
  {
   "cell_type": "code",
   "execution_count": 11,
   "metadata": {},
   "outputs": [
    {
     "data": {
      "text/plain": [
       "array([[  3.00687701,  16.98541736,  -0.0758306 ,   5.45886042,\n",
       "          8.34066052,   1.9663178 ,   1.32449325,  -2.66899028,\n",
       "        -16.4853755 ,  -0.23795665,  -5.10821253,  -8.53419026,\n",
       "         -0.82046932,  -1.429018  ]])"
      ]
     },
     "execution_count": 11,
     "metadata": {},
     "output_type": "execute_result"
    }
   ],
   "source": [
    "logreg.coef_"
   ]
  },
  {
   "cell_type": "code",
   "execution_count": 12,
   "metadata": {},
   "outputs": [
    {
     "name": "stdout",
     "output_type": "stream",
     "text": [
      "Accuracy: 0.915487849111353\n",
      "Precision: 0.9211643420254699\n",
      "Recall: 0.9364981504315659\n"
     ]
    }
   ],
   "source": [
    "# calculate accuracy, precision and recall? measures of the model \n",
    "print(\"Accuracy:\",metrics.accuracy_score(Y_test, Y_pred))\n",
    "print(\"Precision:\",metrics.precision_score(Y_test, Y_pred))\n",
    "print('Recall:',metrics.recall_score(Y_test, Y_pred))"
   ]
  },
  {
   "cell_type": "code",
   "execution_count": 13,
   "metadata": {},
   "outputs": [
    {
     "name": "stdout",
     "output_type": "stream",
     "text": [
      "Accuracy: 0.915487849111353\n",
      "F1_Score: 0.9153279904321571\n",
      "AUC: 0.9109803527488226\n"
     ]
    }
   ],
   "source": [
    "# Calculating accuracy, F1 score, and AUC \n",
    "print('Accuracy:', metrics.accuracy_score(Y_test, Y_pred))\n",
    "print('F1_Score:', metrics.f1_score(Y_test, Y_pred, average='weighted'))\n",
    "print('AUC:', metrics.roc_auc_score(Y_test, Y_pred, average='weighted'))"
   ]
  },
  {
   "cell_type": "code",
   "execution_count": 19,
   "metadata": {},
   "outputs": [
    {
     "name": "stdout",
     "output_type": "stream",
     "text": [
      "R^2: 0.6510638413445086\n"
     ]
    }
   ],
   "source": [
    "# Calculating R^2\n",
    "print('R^2:', metrics.r2_score(Y_test, Y_pred))"
   ]
  },
  {
   "cell_type": "markdown",
   "metadata": {},
   "source": [
    "## Evaluation of LR"
   ]
  },
  {
   "cell_type": "code",
   "execution_count": 8,
   "metadata": {},
   "outputs": [
    {
     "name": "stdout",
     "output_type": "stream",
     "text": [
      "F1 0.9050; AUC 0.9006 \n",
      "Accuracy of classifier on test set: 0.91\n",
      "10-fold cross validation average accuracy of classifier: 0.916\n",
      "Confusion Matrix for Logistic Regression Classfier:\n",
      "[[1085  160]\n",
      " [ 120 1589]]\n",
      "Classification Report for Logistic Regression Classfier:\n",
      "              precision    recall  f1-score   support\n",
      "\n",
      "           0       0.90      0.87      0.89      1245\n",
      "           1       0.91      0.93      0.92      1709\n",
      "\n",
      "    accuracy                           0.91      2954\n",
      "   macro avg       0.90      0.90      0.90      2954\n",
      "weighted avg       0.91      0.91      0.90      2954\n",
      "\n"
     ]
    }
   ],
   "source": [
    "# lists for f1-score and AUC\n",
    "f1_score_lst = []\n",
    "auc_lst = []\n",
    "\n",
    "#loop to calculate f1 and auc scores and present averages after 10 runs\n",
    "for count in range (1,10):\n",
    "    \n",
    "    #10-fold cross validation\n",
    "    kfold = model_selection.KFold(n_splits=10, random_state=2019)\n",
    "    scoring = 'accuracy'\n",
    "    results = model_selection.cross_val_score(logreg, X_train, Y_train, cv=kfold, scoring=scoring)\n",
    "\n",
    "    #calculate f1-score and AUC\n",
    "    clf_roc_auc = roc_auc_score(Y_test, Y_pred)\n",
    "    f1_score_lst.append(precision_recall_fscore_support(Y_test, Y_pred, average='weighted')[2])\n",
    "    auc_lst.append(clf_roc_auc)\n",
    "\n",
    "\n",
    "print('F1 {:.4f}; AUC {:.4f} '.format(np.mean(f1_score_lst),np.mean(auc_lst)))\n",
    "\n",
    "#result=logit_model.fit()\n",
    "confusion_matrix_y = confusion_matrix(Y_test, Y_pred)\n",
    "\n",
    "\n",
    "#print(result.summary())\n",
    "print('Accuracy of classifier on test set: {:.2f}'.format(logreg.score(X_test, Y_test)))\n",
    "\n",
    "print(\"10-fold cross validation average accuracy of classifier: %.3f\" % (results.mean()))\n",
    "\n",
    "print('Confusion Matrix for Logistic Regression Classfier:')\n",
    "print(confusion_matrix_y)\n",
    "\n",
    "print('Classification Report for Logistic Regression Classfier:')\n",
    "print(classification_report(Y_test, Y_pred))"
   ]
  },
  {
   "cell_type": "code",
   "execution_count": null,
   "metadata": {},
   "outputs": [],
   "source": []
  }
 ],
 "metadata": {
  "kernelspec": {
   "display_name": "Python 3",
   "language": "python",
   "name": "python3"
  },
  "language_info": {
   "codemirror_mode": {
    "name": "ipython",
    "version": 3
   },
   "file_extension": ".py",
   "mimetype": "text/x-python",
   "name": "python",
   "nbconvert_exporter": "python",
   "pygments_lexer": "ipython3",
   "version": "3.6.7"
  }
 },
 "nbformat": 4,
 "nbformat_minor": 2
}
