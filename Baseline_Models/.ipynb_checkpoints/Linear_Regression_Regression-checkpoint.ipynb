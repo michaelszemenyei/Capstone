{
 "cells": [
  {
   "cell_type": "markdown",
   "metadata": {},
   "source": [
    "## Linear Regression"
   ]
  },
  {
   "cell_type": "code",
   "execution_count": 37,
   "metadata": {},
   "outputs": [],
   "source": [
    "# import required package for data handling\n",
    "import pandas as pd\n",
    "import numpy as np\n",
    "\n",
    "# import required packages for splitting data\n",
    "from sklearn import model_selection\n",
    "from sklearn.model_selection import cross_val_score\n",
    "from sklearn.model_selection import train_test_split\n",
    "\n",
    "# import required packages for evaluating models\n",
    "from sklearn import metrics\n",
    "from sklearn.metrics import confusion_matrix\n",
    "from sklearn.metrics import classification_report\n",
    "from sklearn.metrics import roc_auc_score\n",
    "from sklearn.metrics import accuracy_score\n",
    "from sklearn.metrics import precision_recall_fscore_support\n",
    "\n",
    "# Importing Linear Rgression Model \n",
    "from sklearn.linear_model import LinearRegression"
   ]
  },
  {
   "cell_type": "code",
   "execution_count": 38,
   "metadata": {},
   "outputs": [],
   "source": [
    "# Loading in the data set\n",
    "df =pd.read_csv('../csv_files/Model_Ready_Regression.csv', header=0, index_col=0)"
   ]
  },
  {
   "cell_type": "code",
   "execution_count": 39,
   "metadata": {},
   "outputs": [
    {
     "data": {
      "text/html": [
       "<div>\n",
       "<style scoped>\n",
       "    .dataframe tbody tr th:only-of-type {\n",
       "        vertical-align: middle;\n",
       "    }\n",
       "\n",
       "    .dataframe tbody tr th {\n",
       "        vertical-align: top;\n",
       "    }\n",
       "\n",
       "    .dataframe thead th {\n",
       "        text-align: right;\n",
       "    }\n",
       "</style>\n",
       "<table border=\"1\" class=\"dataframe\">\n",
       "  <thead>\n",
       "    <tr style=\"text-align: right;\">\n",
       "      <th></th>\n",
       "      <th>H_FTPct</th>\n",
       "      <th>H_EFGPct</th>\n",
       "      <th>H_ThreePARt</th>\n",
       "      <th>H_FTR</th>\n",
       "      <th>H_REBPct</th>\n",
       "      <th>H_BLKPct</th>\n",
       "      <th>H_AST_TOV_Ratio</th>\n",
       "      <th>A_FTPct</th>\n",
       "      <th>A_EFGPct</th>\n",
       "      <th>A_ThreePARt</th>\n",
       "      <th>A_FTR</th>\n",
       "      <th>A_REBPct</th>\n",
       "      <th>A_BLKPct</th>\n",
       "      <th>A_AST_TOV_Ratio</th>\n",
       "      <th>Target</th>\n",
       "    </tr>\n",
       "  </thead>\n",
       "  <tbody>\n",
       "    <tr>\n",
       "      <th>0</th>\n",
       "      <td>83.3</td>\n",
       "      <td>0.461538</td>\n",
       "      <td>0.395604</td>\n",
       "      <td>0.329670</td>\n",
       "      <td>0.506173</td>\n",
       "      <td>0.036585</td>\n",
       "      <td>1.785714</td>\n",
       "      <td>95.2</td>\n",
       "      <td>0.628049</td>\n",
       "      <td>0.463415</td>\n",
       "      <td>0.256098</td>\n",
       "      <td>0.493827</td>\n",
       "      <td>0.109890</td>\n",
       "      <td>2.142857</td>\n",
       "      <td>-14</td>\n",
       "    </tr>\n",
       "    <tr>\n",
       "      <th>1</th>\n",
       "      <td>88.5</td>\n",
       "      <td>0.430851</td>\n",
       "      <td>0.404255</td>\n",
       "      <td>0.276596</td>\n",
       "      <td>0.538462</td>\n",
       "      <td>0.024390</td>\n",
       "      <td>1.133333</td>\n",
       "      <td>87.0</td>\n",
       "      <td>0.542683</td>\n",
       "      <td>0.414634</td>\n",
       "      <td>0.280488</td>\n",
       "      <td>0.461538</td>\n",
       "      <td>0.053191</td>\n",
       "      <td>2.266667</td>\n",
       "      <td>-5</td>\n",
       "    </tr>\n",
       "    <tr>\n",
       "      <th>2</th>\n",
       "      <td>84.4</td>\n",
       "      <td>0.590909</td>\n",
       "      <td>0.428571</td>\n",
       "      <td>0.415584</td>\n",
       "      <td>0.486486</td>\n",
       "      <td>0.076923</td>\n",
       "      <td>2.500000</td>\n",
       "      <td>93.5</td>\n",
       "      <td>0.512821</td>\n",
       "      <td>0.397436</td>\n",
       "      <td>0.397436</td>\n",
       "      <td>0.513514</td>\n",
       "      <td>0.025974</td>\n",
       "      <td>1.812500</td>\n",
       "      <td>9</td>\n",
       "    </tr>\n",
       "    <tr>\n",
       "      <th>3</th>\n",
       "      <td>72.7</td>\n",
       "      <td>0.567568</td>\n",
       "      <td>0.364865</td>\n",
       "      <td>0.297297</td>\n",
       "      <td>0.475000</td>\n",
       "      <td>0.053333</td>\n",
       "      <td>2.000000</td>\n",
       "      <td>71.0</td>\n",
       "      <td>0.480000</td>\n",
       "      <td>0.453333</td>\n",
       "      <td>0.413333</td>\n",
       "      <td>0.525000</td>\n",
       "      <td>0.094595</td>\n",
       "      <td>1.727273</td>\n",
       "      <td>6</td>\n",
       "    </tr>\n",
       "    <tr>\n",
       "      <th>4</th>\n",
       "      <td>72.2</td>\n",
       "      <td>0.511905</td>\n",
       "      <td>0.369048</td>\n",
       "      <td>0.214286</td>\n",
       "      <td>0.540816</td>\n",
       "      <td>0.023810</td>\n",
       "      <td>2.363636</td>\n",
       "      <td>80.6</td>\n",
       "      <td>0.476190</td>\n",
       "      <td>0.511905</td>\n",
       "      <td>0.369048</td>\n",
       "      <td>0.459184</td>\n",
       "      <td>0.047619</td>\n",
       "      <td>3.166667</td>\n",
       "      <td>-6</td>\n",
       "    </tr>\n",
       "  </tbody>\n",
       "</table>\n",
       "</div>"
      ],
      "text/plain": [
       "   H_FTPct  H_EFGPct  H_ThreePARt     H_FTR  H_REBPct  H_BLKPct  \\\n",
       "0     83.3  0.461538     0.395604  0.329670  0.506173  0.036585   \n",
       "1     88.5  0.430851     0.404255  0.276596  0.538462  0.024390   \n",
       "2     84.4  0.590909     0.428571  0.415584  0.486486  0.076923   \n",
       "3     72.7  0.567568     0.364865  0.297297  0.475000  0.053333   \n",
       "4     72.2  0.511905     0.369048  0.214286  0.540816  0.023810   \n",
       "\n",
       "   H_AST_TOV_Ratio  A_FTPct  A_EFGPct  A_ThreePARt     A_FTR  A_REBPct  \\\n",
       "0         1.785714     95.2  0.628049     0.463415  0.256098  0.493827   \n",
       "1         1.133333     87.0  0.542683     0.414634  0.280488  0.461538   \n",
       "2         2.500000     93.5  0.512821     0.397436  0.397436  0.513514   \n",
       "3         2.000000     71.0  0.480000     0.453333  0.413333  0.525000   \n",
       "4         2.363636     80.6  0.476190     0.511905  0.369048  0.459184   \n",
       "\n",
       "   A_BLKPct  A_AST_TOV_Ratio  Target  \n",
       "0  0.109890         2.142857     -14  \n",
       "1  0.053191         2.266667      -5  \n",
       "2  0.025974         1.812500       9  \n",
       "3  0.094595         1.727273       6  \n",
       "4  0.047619         3.166667      -6  "
      ]
     },
     "execution_count": 39,
     "metadata": {},
     "output_type": "execute_result"
    }
   ],
   "source": [
    "df.head()"
   ]
  },
  {
   "cell_type": "code",
   "execution_count": 40,
   "metadata": {},
   "outputs": [
    {
     "data": {
      "text/plain": [
       "Index(['H_FTPct', 'H_EFGPct', 'H_ThreePARt', 'H_FTR', 'H_REBPct', 'H_BLKPct',\n",
       "       'H_AST_TOV_Ratio', 'A_FTPct', 'A_EFGPct', 'A_ThreePARt', 'A_FTR',\n",
       "       'A_REBPct', 'A_BLKPct', 'A_AST_TOV_Ratio', 'Target'],\n",
       "      dtype='object')"
      ]
     },
     "execution_count": 40,
     "metadata": {},
     "output_type": "execute_result"
    }
   ],
   "source": [
    "df.columns"
   ]
  },
  {
   "cell_type": "code",
   "execution_count": 41,
   "metadata": {},
   "outputs": [],
   "source": [
    "# Assign feature columns as list:\n",
    "feature_cols = ['H_FTPct', 'H_EFGPct', 'H_ThreePARt', 'H_FTR', 'H_REBPct', \n",
    "               'H_BLKPct', 'H_AST_TOVRatio', 'A_FTPct', 'A_EFGPct', 'A_ThreePARt', \n",
    "                'A_FTR', 'A_REBPct', 'A_BLKPct', 'A_AST_TOVRatio' ]"
   ]
  },
  {
   "cell_type": "code",
   "execution_count": 42,
   "metadata": {},
   "outputs": [],
   "source": [
    "# Splitting up our data into variable and target data\n",
    "X = df.iloc[:, :-1] # Variable\n",
    "Y = df.Target # Target"
   ]
  },
  {
   "cell_type": "code",
   "execution_count": 43,
   "metadata": {},
   "outputs": [],
   "source": [
    "# Split dataset into training set and test set\n",
    "# 70% training and 30% test\n",
    "X_train, X_test, Y_train, Y_test = train_test_split(X, Y, test_size=0.3, random_state=2019)"
   ]
  },
  {
   "cell_type": "code",
   "execution_count": 44,
   "metadata": {},
   "outputs": [
    {
     "data": {
      "text/plain": [
       "LinearRegression(copy_X=True, fit_intercept=True, n_jobs=None, normalize=False)"
      ]
     },
     "execution_count": 44,
     "metadata": {},
     "output_type": "execute_result"
    }
   ],
   "source": [
    "# Instantiate\n",
    "linreg = LinearRegression()\n",
    "\n",
    "# Fitting the model \n",
    "linreg.fit(X_train, Y_train)"
   ]
  },
  {
   "cell_type": "code",
   "execution_count": 45,
   "metadata": {},
   "outputs": [
    {
     "name": "stdout",
     "output_type": "stream",
     "text": [
      "1.4177326068049694\n",
      "[  0.13216692  96.38006854   3.8243976   14.00154046  42.12513201\n",
      "  -5.74311116   5.01798378  -0.13989325 -97.06000754  -3.68054951\n",
      " -13.56227531 -42.12513201   8.84709344  -5.37619548]\n"
     ]
    },
    {
     "data": {
      "text/plain": [
       "<zip at 0x7f397277d388>"
      ]
     },
     "execution_count": 45,
     "metadata": {},
     "output_type": "execute_result"
    }
   ],
   "source": [
    "# Printing the y-intercept\n",
    "print(linreg.intercept_)\n",
    "\n",
    "# Prints the beta coefficients in same order as passed\n",
    "print(linreg.coef_)\n",
    "\n",
    "# Zip can pair feature names and coefficients together\n",
    "zip(feature_cols, linreg.coef_)"
   ]
  },
  {
   "cell_type": "code",
   "execution_count": 46,
   "metadata": {},
   "outputs": [],
   "source": [
    "# Making a predictive model\n",
    "Y_pred = linreg.predict(X_test)"
   ]
  },
  {
   "cell_type": "code",
   "execution_count": 47,
   "metadata": {},
   "outputs": [
    {
     "name": "stdout",
     "output_type": "stream",
     "text": [
      "3.8461474398193003\n",
      "25.305343418017276\n",
      "5.030441672260725\n"
     ]
    }
   ],
   "source": [
    "# Print result of MAE\n",
    "print(metrics.mean_absolute_error(Y_test, Y_pred))\n",
    "\n",
    "# Print result of MSE\n",
    "print(metrics.mean_squared_error(Y_test, Y_pred))\n",
    "\n",
    "# Print result of RMSE \n",
    "print(np.sqrt(metrics.mean_squared_error(Y_test, Y_pred)))"
   ]
  },
  {
   "cell_type": "code",
   "execution_count": null,
   "metadata": {},
   "outputs": [],
   "source": []
  }
 ],
 "metadata": {
  "kernelspec": {
   "display_name": "Python 3",
   "language": "python",
   "name": "python3"
  },
  "language_info": {
   "codemirror_mode": {
    "name": "ipython",
    "version": 3
   },
   "file_extension": ".py",
   "mimetype": "text/x-python",
   "name": "python",
   "nbconvert_exporter": "python",
   "pygments_lexer": "ipython3",
   "version": "3.6.7"
  }
 },
 "nbformat": 4,
 "nbformat_minor": 2
}
