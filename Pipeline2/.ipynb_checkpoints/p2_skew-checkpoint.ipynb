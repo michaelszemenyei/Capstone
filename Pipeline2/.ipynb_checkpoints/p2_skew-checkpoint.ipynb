{
 "cells": [
  {
   "cell_type": "markdown",
   "metadata": {},
   "source": [
    "## Pipeline 2 - Handling Skew "
   ]
  },
  {
   "cell_type": "code",
   "execution_count": 85,
   "metadata": {},
   "outputs": [],
   "source": [
    "# import packages\n",
    "import numpy as np\n",
    "import pandas as pd\n",
    "import matplotlib.pyplot as plt"
   ]
  },
  {
   "cell_type": "code",
   "execution_count": 86,
   "metadata": {},
   "outputs": [
    {
     "data": {
      "text/html": [
       "<div>\n",
       "<style scoped>\n",
       "    .dataframe tbody tr th:only-of-type {\n",
       "        vertical-align: middle;\n",
       "    }\n",
       "\n",
       "    .dataframe tbody tr th {\n",
       "        vertical-align: top;\n",
       "    }\n",
       "\n",
       "    .dataframe thead th {\n",
       "        text-align: right;\n",
       "    }\n",
       "</style>\n",
       "<table border=\"1\" class=\"dataframe\">\n",
       "  <thead>\n",
       "    <tr style=\"text-align: right;\">\n",
       "      <th></th>\n",
       "      <th>H_FTPct</th>\n",
       "      <th>H_EFGPct</th>\n",
       "      <th>H_ThreePARt</th>\n",
       "      <th>H_FTR</th>\n",
       "      <th>H_REBPct</th>\n",
       "      <th>H_BLKPct</th>\n",
       "      <th>H_AST_TOV_Ratio</th>\n",
       "      <th>A_FTPct</th>\n",
       "      <th>A_EFGPct</th>\n",
       "      <th>A_ThreePARt</th>\n",
       "      <th>A_FTR</th>\n",
       "      <th>A_REBPct</th>\n",
       "      <th>A_BLKPct</th>\n",
       "      <th>A_AST_TOV_Ratio</th>\n",
       "      <th>Target</th>\n",
       "    </tr>\n",
       "  </thead>\n",
       "  <tbody>\n",
       "    <tr>\n",
       "      <th>0</th>\n",
       "      <td>0.833</td>\n",
       "      <td>0.461538</td>\n",
       "      <td>0.395604</td>\n",
       "      <td>0.329670</td>\n",
       "      <td>0.506173</td>\n",
       "      <td>0.036585</td>\n",
       "      <td>1.785714</td>\n",
       "      <td>0.952</td>\n",
       "      <td>0.628049</td>\n",
       "      <td>0.463415</td>\n",
       "      <td>0.256098</td>\n",
       "      <td>0.493827</td>\n",
       "      <td>0.109890</td>\n",
       "      <td>2.142857</td>\n",
       "      <td>0</td>\n",
       "    </tr>\n",
       "    <tr>\n",
       "      <th>1</th>\n",
       "      <td>0.885</td>\n",
       "      <td>0.430851</td>\n",
       "      <td>0.404255</td>\n",
       "      <td>0.276596</td>\n",
       "      <td>0.538462</td>\n",
       "      <td>0.024390</td>\n",
       "      <td>1.133333</td>\n",
       "      <td>0.870</td>\n",
       "      <td>0.542683</td>\n",
       "      <td>0.414634</td>\n",
       "      <td>0.280488</td>\n",
       "      <td>0.461538</td>\n",
       "      <td>0.053191</td>\n",
       "      <td>2.266667</td>\n",
       "      <td>0</td>\n",
       "    </tr>\n",
       "    <tr>\n",
       "      <th>2</th>\n",
       "      <td>0.844</td>\n",
       "      <td>0.590909</td>\n",
       "      <td>0.428571</td>\n",
       "      <td>0.415584</td>\n",
       "      <td>0.486486</td>\n",
       "      <td>0.076923</td>\n",
       "      <td>2.500000</td>\n",
       "      <td>0.935</td>\n",
       "      <td>0.512821</td>\n",
       "      <td>0.397436</td>\n",
       "      <td>0.397436</td>\n",
       "      <td>0.513514</td>\n",
       "      <td>0.025974</td>\n",
       "      <td>1.812500</td>\n",
       "      <td>1</td>\n",
       "    </tr>\n",
       "    <tr>\n",
       "      <th>3</th>\n",
       "      <td>0.727</td>\n",
       "      <td>0.567568</td>\n",
       "      <td>0.364865</td>\n",
       "      <td>0.297297</td>\n",
       "      <td>0.475000</td>\n",
       "      <td>0.053333</td>\n",
       "      <td>2.000000</td>\n",
       "      <td>0.710</td>\n",
       "      <td>0.480000</td>\n",
       "      <td>0.453333</td>\n",
       "      <td>0.413333</td>\n",
       "      <td>0.525000</td>\n",
       "      <td>0.094595</td>\n",
       "      <td>1.727273</td>\n",
       "      <td>1</td>\n",
       "    </tr>\n",
       "    <tr>\n",
       "      <th>4</th>\n",
       "      <td>0.722</td>\n",
       "      <td>0.511905</td>\n",
       "      <td>0.369048</td>\n",
       "      <td>0.214286</td>\n",
       "      <td>0.540816</td>\n",
       "      <td>0.023810</td>\n",
       "      <td>2.363636</td>\n",
       "      <td>0.806</td>\n",
       "      <td>0.476190</td>\n",
       "      <td>0.511905</td>\n",
       "      <td>0.369048</td>\n",
       "      <td>0.459184</td>\n",
       "      <td>0.047619</td>\n",
       "      <td>3.166667</td>\n",
       "      <td>0</td>\n",
       "    </tr>\n",
       "    <tr>\n",
       "      <th>5</th>\n",
       "      <td>0.889</td>\n",
       "      <td>0.551724</td>\n",
       "      <td>0.471264</td>\n",
       "      <td>0.310345</td>\n",
       "      <td>0.523810</td>\n",
       "      <td>0.062500</td>\n",
       "      <td>2.909091</td>\n",
       "      <td>0.654</td>\n",
       "      <td>0.531250</td>\n",
       "      <td>0.437500</td>\n",
       "      <td>0.325000</td>\n",
       "      <td>0.476190</td>\n",
       "      <td>0.080460</td>\n",
       "      <td>2.500000</td>\n",
       "      <td>1</td>\n",
       "    </tr>\n",
       "    <tr>\n",
       "      <th>6</th>\n",
       "      <td>0.700</td>\n",
       "      <td>0.561224</td>\n",
       "      <td>0.418367</td>\n",
       "      <td>0.102041</td>\n",
       "      <td>0.404255</td>\n",
       "      <td>0.060606</td>\n",
       "      <td>2.583333</td>\n",
       "      <td>0.789</td>\n",
       "      <td>0.525253</td>\n",
       "      <td>0.393939</td>\n",
       "      <td>0.191919</td>\n",
       "      <td>0.595745</td>\n",
       "      <td>0.051020</td>\n",
       "      <td>2.000000</td>\n",
       "      <td>0</td>\n",
       "    </tr>\n",
       "    <tr>\n",
       "      <th>7</th>\n",
       "      <td>0.808</td>\n",
       "      <td>0.475490</td>\n",
       "      <td>0.441176</td>\n",
       "      <td>0.254902</td>\n",
       "      <td>0.466102</td>\n",
       "      <td>0.098039</td>\n",
       "      <td>1.647059</td>\n",
       "      <td>0.667</td>\n",
       "      <td>0.441176</td>\n",
       "      <td>0.431373</td>\n",
       "      <td>0.323529</td>\n",
       "      <td>0.533898</td>\n",
       "      <td>0.049020</td>\n",
       "      <td>1.100000</td>\n",
       "      <td>1</td>\n",
       "    </tr>\n",
       "    <tr>\n",
       "      <th>8</th>\n",
       "      <td>0.606</td>\n",
       "      <td>0.464706</td>\n",
       "      <td>0.411765</td>\n",
       "      <td>0.388235</td>\n",
       "      <td>0.455556</td>\n",
       "      <td>0.035714</td>\n",
       "      <td>2.000000</td>\n",
       "      <td>0.870</td>\n",
       "      <td>0.535714</td>\n",
       "      <td>0.309524</td>\n",
       "      <td>0.273810</td>\n",
       "      <td>0.544444</td>\n",
       "      <td>0.058824</td>\n",
       "      <td>2.076923</td>\n",
       "      <td>0</td>\n",
       "    </tr>\n",
       "    <tr>\n",
       "      <th>9</th>\n",
       "      <td>0.743</td>\n",
       "      <td>0.538043</td>\n",
       "      <td>0.445652</td>\n",
       "      <td>0.380435</td>\n",
       "      <td>0.569892</td>\n",
       "      <td>0.045977</td>\n",
       "      <td>3.857143</td>\n",
       "      <td>0.760</td>\n",
       "      <td>0.482759</td>\n",
       "      <td>0.367816</td>\n",
       "      <td>0.287356</td>\n",
       "      <td>0.430108</td>\n",
       "      <td>0.065217</td>\n",
       "      <td>1.461538</td>\n",
       "      <td>1</td>\n",
       "    </tr>\n",
       "  </tbody>\n",
       "</table>\n",
       "</div>"
      ],
      "text/plain": [
       "   H_FTPct  H_EFGPct  H_ThreePARt     H_FTR  H_REBPct  H_BLKPct  \\\n",
       "0    0.833  0.461538     0.395604  0.329670  0.506173  0.036585   \n",
       "1    0.885  0.430851     0.404255  0.276596  0.538462  0.024390   \n",
       "2    0.844  0.590909     0.428571  0.415584  0.486486  0.076923   \n",
       "3    0.727  0.567568     0.364865  0.297297  0.475000  0.053333   \n",
       "4    0.722  0.511905     0.369048  0.214286  0.540816  0.023810   \n",
       "5    0.889  0.551724     0.471264  0.310345  0.523810  0.062500   \n",
       "6    0.700  0.561224     0.418367  0.102041  0.404255  0.060606   \n",
       "7    0.808  0.475490     0.441176  0.254902  0.466102  0.098039   \n",
       "8    0.606  0.464706     0.411765  0.388235  0.455556  0.035714   \n",
       "9    0.743  0.538043     0.445652  0.380435  0.569892  0.045977   \n",
       "\n",
       "   H_AST_TOV_Ratio  A_FTPct  A_EFGPct  A_ThreePARt     A_FTR  A_REBPct  \\\n",
       "0         1.785714    0.952  0.628049     0.463415  0.256098  0.493827   \n",
       "1         1.133333    0.870  0.542683     0.414634  0.280488  0.461538   \n",
       "2         2.500000    0.935  0.512821     0.397436  0.397436  0.513514   \n",
       "3         2.000000    0.710  0.480000     0.453333  0.413333  0.525000   \n",
       "4         2.363636    0.806  0.476190     0.511905  0.369048  0.459184   \n",
       "5         2.909091    0.654  0.531250     0.437500  0.325000  0.476190   \n",
       "6         2.583333    0.789  0.525253     0.393939  0.191919  0.595745   \n",
       "7         1.647059    0.667  0.441176     0.431373  0.323529  0.533898   \n",
       "8         2.000000    0.870  0.535714     0.309524  0.273810  0.544444   \n",
       "9         3.857143    0.760  0.482759     0.367816  0.287356  0.430108   \n",
       "\n",
       "   A_BLKPct  A_AST_TOV_Ratio  Target  \n",
       "0  0.109890         2.142857       0  \n",
       "1  0.053191         2.266667       0  \n",
       "2  0.025974         1.812500       1  \n",
       "3  0.094595         1.727273       1  \n",
       "4  0.047619         3.166667       0  \n",
       "5  0.080460         2.500000       1  \n",
       "6  0.051020         2.000000       0  \n",
       "7  0.049020         1.100000       1  \n",
       "8  0.058824         2.076923       0  \n",
       "9  0.065217         1.461538       1  "
      ]
     },
     "execution_count": 86,
     "metadata": {},
     "output_type": "execute_result"
    }
   ],
   "source": [
    "# read the excel file\n",
    "df = pd.read_csv('../csv_files/Model_Ready_Classification.csv',index_col=0)\n",
    "df.head(10)"
   ]
  },
  {
   "cell_type": "code",
   "execution_count": 87,
   "metadata": {},
   "outputs": [],
   "source": [
    "# Dropping the target variable from the dataset in order to only have the variables\n",
    "df = df.drop(['Target'], axis=1) "
   ]
  },
  {
   "cell_type": "code",
   "execution_count": 88,
   "metadata": {},
   "outputs": [
    {
     "data": {
      "text/html": [
       "<div>\n",
       "<style scoped>\n",
       "    .dataframe tbody tr th:only-of-type {\n",
       "        vertical-align: middle;\n",
       "    }\n",
       "\n",
       "    .dataframe tbody tr th {\n",
       "        vertical-align: top;\n",
       "    }\n",
       "\n",
       "    .dataframe thead th {\n",
       "        text-align: right;\n",
       "    }\n",
       "</style>\n",
       "<table border=\"1\" class=\"dataframe\">\n",
       "  <thead>\n",
       "    <tr style=\"text-align: right;\">\n",
       "      <th></th>\n",
       "      <th>H_FTPct</th>\n",
       "      <th>H_EFGPct</th>\n",
       "      <th>H_ThreePARt</th>\n",
       "      <th>H_FTR</th>\n",
       "      <th>H_REBPct</th>\n",
       "      <th>H_BLKPct</th>\n",
       "      <th>H_AST_TOV_Ratio</th>\n",
       "      <th>A_FTPct</th>\n",
       "      <th>A_EFGPct</th>\n",
       "      <th>A_ThreePARt</th>\n",
       "      <th>A_FTR</th>\n",
       "      <th>A_REBPct</th>\n",
       "      <th>A_BLKPct</th>\n",
       "      <th>A_AST_TOV_Ratio</th>\n",
       "    </tr>\n",
       "  </thead>\n",
       "  <tbody>\n",
       "    <tr>\n",
       "      <th>0</th>\n",
       "      <td>0.833</td>\n",
       "      <td>0.461538</td>\n",
       "      <td>0.395604</td>\n",
       "      <td>0.329670</td>\n",
       "      <td>0.506173</td>\n",
       "      <td>0.036585</td>\n",
       "      <td>1.785714</td>\n",
       "      <td>0.952</td>\n",
       "      <td>0.628049</td>\n",
       "      <td>0.463415</td>\n",
       "      <td>0.256098</td>\n",
       "      <td>0.493827</td>\n",
       "      <td>0.109890</td>\n",
       "      <td>2.142857</td>\n",
       "    </tr>\n",
       "    <tr>\n",
       "      <th>1</th>\n",
       "      <td>0.885</td>\n",
       "      <td>0.430851</td>\n",
       "      <td>0.404255</td>\n",
       "      <td>0.276596</td>\n",
       "      <td>0.538462</td>\n",
       "      <td>0.024390</td>\n",
       "      <td>1.133333</td>\n",
       "      <td>0.870</td>\n",
       "      <td>0.542683</td>\n",
       "      <td>0.414634</td>\n",
       "      <td>0.280488</td>\n",
       "      <td>0.461538</td>\n",
       "      <td>0.053191</td>\n",
       "      <td>2.266667</td>\n",
       "    </tr>\n",
       "    <tr>\n",
       "      <th>2</th>\n",
       "      <td>0.844</td>\n",
       "      <td>0.590909</td>\n",
       "      <td>0.428571</td>\n",
       "      <td>0.415584</td>\n",
       "      <td>0.486486</td>\n",
       "      <td>0.076923</td>\n",
       "      <td>2.500000</td>\n",
       "      <td>0.935</td>\n",
       "      <td>0.512821</td>\n",
       "      <td>0.397436</td>\n",
       "      <td>0.397436</td>\n",
       "      <td>0.513514</td>\n",
       "      <td>0.025974</td>\n",
       "      <td>1.812500</td>\n",
       "    </tr>\n",
       "    <tr>\n",
       "      <th>3</th>\n",
       "      <td>0.727</td>\n",
       "      <td>0.567568</td>\n",
       "      <td>0.364865</td>\n",
       "      <td>0.297297</td>\n",
       "      <td>0.475000</td>\n",
       "      <td>0.053333</td>\n",
       "      <td>2.000000</td>\n",
       "      <td>0.710</td>\n",
       "      <td>0.480000</td>\n",
       "      <td>0.453333</td>\n",
       "      <td>0.413333</td>\n",
       "      <td>0.525000</td>\n",
       "      <td>0.094595</td>\n",
       "      <td>1.727273</td>\n",
       "    </tr>\n",
       "    <tr>\n",
       "      <th>4</th>\n",
       "      <td>0.722</td>\n",
       "      <td>0.511905</td>\n",
       "      <td>0.369048</td>\n",
       "      <td>0.214286</td>\n",
       "      <td>0.540816</td>\n",
       "      <td>0.023810</td>\n",
       "      <td>2.363636</td>\n",
       "      <td>0.806</td>\n",
       "      <td>0.476190</td>\n",
       "      <td>0.511905</td>\n",
       "      <td>0.369048</td>\n",
       "      <td>0.459184</td>\n",
       "      <td>0.047619</td>\n",
       "      <td>3.166667</td>\n",
       "    </tr>\n",
       "  </tbody>\n",
       "</table>\n",
       "</div>"
      ],
      "text/plain": [
       "   H_FTPct  H_EFGPct  H_ThreePARt     H_FTR  H_REBPct  H_BLKPct  \\\n",
       "0    0.833  0.461538     0.395604  0.329670  0.506173  0.036585   \n",
       "1    0.885  0.430851     0.404255  0.276596  0.538462  0.024390   \n",
       "2    0.844  0.590909     0.428571  0.415584  0.486486  0.076923   \n",
       "3    0.727  0.567568     0.364865  0.297297  0.475000  0.053333   \n",
       "4    0.722  0.511905     0.369048  0.214286  0.540816  0.023810   \n",
       "\n",
       "   H_AST_TOV_Ratio  A_FTPct  A_EFGPct  A_ThreePARt     A_FTR  A_REBPct  \\\n",
       "0         1.785714    0.952  0.628049     0.463415  0.256098  0.493827   \n",
       "1         1.133333    0.870  0.542683     0.414634  0.280488  0.461538   \n",
       "2         2.500000    0.935  0.512821     0.397436  0.397436  0.513514   \n",
       "3         2.000000    0.710  0.480000     0.453333  0.413333  0.525000   \n",
       "4         2.363636    0.806  0.476190     0.511905  0.369048  0.459184   \n",
       "\n",
       "   A_BLKPct  A_AST_TOV_Ratio  \n",
       "0  0.109890         2.142857  \n",
       "1  0.053191         2.266667  \n",
       "2  0.025974         1.812500  \n",
       "3  0.094595         1.727273  \n",
       "4  0.047619         3.166667  "
      ]
     },
     "execution_count": 88,
     "metadata": {},
     "output_type": "execute_result"
    }
   ],
   "source": [
    "df.head()"
   ]
  },
  {
   "cell_type": "code",
   "execution_count": 89,
   "metadata": {},
   "outputs": [
    {
     "data": {
      "text/plain": [
       "H_FTPct           -0.385370\n",
       "H_EFGPct           0.158915\n",
       "H_ThreePARt        0.336457\n",
       "H_FTR              0.727429\n",
       "H_REBPct          -0.014475\n",
       "H_BLKPct           0.626443\n",
       "H_AST_TOV_Ratio    2.300406\n",
       "A_FTPct           -0.357750\n",
       "A_EFGPct           0.137635\n",
       "A_ThreePARt        0.352216\n",
       "A_FTR              0.650330\n",
       "A_REBPct           0.014475\n",
       "A_BLKPct           0.571297\n",
       "A_AST_TOV_Ratio    1.862044\n",
       "dtype: float64"
      ]
     },
     "execution_count": 89,
     "metadata": {},
     "output_type": "execute_result"
    }
   ],
   "source": [
    "# Looking at the skew of the variables\n",
    "df.skew()"
   ]
  },
  {
   "cell_type": "markdown",
   "metadata": {},
   "source": [
    "## Working to fix the skew of the dataset"
   ]
  },
  {
   "cell_type": "code",
   "execution_count": 90,
   "metadata": {},
   "outputs": [
    {
     "data": {
      "text/plain": [
       "0.11379656149194062"
      ]
     },
     "execution_count": 90,
     "metadata": {},
     "output_type": "execute_result"
    }
   ],
   "source": [
    "# Using the squared root \n",
    "df['H_FTR'] = np.sqrt(df['H_FTR'])\n",
    "df['H_FTR'].skew()"
   ]
  },
  {
   "cell_type": "code",
   "execution_count": 91,
   "metadata": {},
   "outputs": [
    {
     "data": {
      "text/plain": [
       "0.07544048775796099"
      ]
     },
     "execution_count": 91,
     "metadata": {},
     "output_type": "execute_result"
    }
   ],
   "source": [
    "# Using the squared root \n",
    "df['A_FTR'] = np.sqrt(df['A_FTR'])\n",
    "df['A_FTR'].skew()"
   ]
  },
  {
   "cell_type": "code",
   "execution_count": 92,
   "metadata": {},
   "outputs": [
    {
     "data": {
      "text/plain": [
       "-0.45456891724284504"
      ]
     },
     "execution_count": 92,
     "metadata": {},
     "output_type": "execute_result"
    }
   ],
   "source": [
    "# Using the squared root \n",
    "df['H_BLKPct'] = np.sqrt(df['H_BLKPct'])\n",
    "df['H_BLKPct'].skew()"
   ]
  },
  {
   "cell_type": "code",
   "execution_count": 93,
   "metadata": {},
   "outputs": [
    {
     "data": {
      "text/plain": [
       "0.4969422446662296"
      ]
     },
     "execution_count": 93,
     "metadata": {},
     "output_type": "execute_result"
    }
   ],
   "source": [
    "# Using the squared root of the cubed root \n",
    "df['H_AST_TOV_Ratio'] = np.sqrt(np.cbrt(df['H_AST_TOV_Ratio']))\n",
    "df['H_AST_TOV_Ratio'].skew()"
   ]
  },
  {
   "cell_type": "code",
   "execution_count": 94,
   "metadata": {},
   "outputs": [
    {
     "data": {
      "text/plain": [
       "-0.2413223629076931"
      ]
     },
     "execution_count": 94,
     "metadata": {},
     "output_type": "execute_result"
    }
   ],
   "source": [
    "# Using the squared root \n",
    "df['A_FTR'] = np.sqrt(df['A_FTR'])\n",
    "df['A_FTR'].skew()"
   ]
  },
  {
   "cell_type": "code",
   "execution_count": 95,
   "metadata": {},
   "outputs": [
    {
     "data": {
      "text/plain": [
       "0.37018359414000407"
      ]
     },
     "execution_count": 95,
     "metadata": {},
     "output_type": "execute_result"
    }
   ],
   "source": [
    "# Using the squared root \n",
    "df['A_AST_TOV_Ratio'] = np.sqrt(np.cbrt(df['A_AST_TOV_Ratio']))\n",
    "df['A_AST_TOV_Ratio'].skew()"
   ]
  },
  {
   "cell_type": "code",
   "execution_count": 96,
   "metadata": {},
   "outputs": [
    {
     "data": {
      "text/plain": [
       "H_FTPct           -0.385370\n",
       "H_EFGPct           0.158915\n",
       "H_ThreePARt        0.336457\n",
       "H_FTR              0.113797\n",
       "H_REBPct          -0.014475\n",
       "H_BLKPct          -0.454569\n",
       "H_AST_TOV_Ratio    0.496942\n",
       "A_FTPct           -0.357750\n",
       "A_EFGPct           0.137635\n",
       "A_ThreePARt        0.352216\n",
       "A_FTR             -0.241322\n",
       "A_REBPct           0.014475\n",
       "A_BLKPct           0.571297\n",
       "A_AST_TOV_Ratio    0.370184\n",
       "dtype: float64"
      ]
     },
     "execution_count": 96,
     "metadata": {},
     "output_type": "execute_result"
    }
   ],
   "source": [
    "# Checking to make sure that it is no longer skewed\n",
    "df.skew()"
   ]
  },
  {
   "cell_type": "code",
   "execution_count": 97,
   "metadata": {},
   "outputs": [],
   "source": [
    "# Saving to a csv\n",
    "df.to_csv('../csv_files/Capstone_p2_handled_skew.csv')"
   ]
  },
  {
   "cell_type": "code",
   "execution_count": null,
   "metadata": {},
   "outputs": [],
   "source": []
  }
 ],
 "metadata": {
  "kernelspec": {
   "display_name": "Python 3",
   "language": "python",
   "name": "python3"
  },
  "language_info": {
   "codemirror_mode": {
    "name": "ipython",
    "version": 3
   },
   "file_extension": ".py",
   "mimetype": "text/x-python",
   "name": "python",
   "nbconvert_exporter": "python",
   "pygments_lexer": "ipython3",
   "version": "3.6.7"
  }
 },
 "nbformat": 4,
 "nbformat_minor": 2
}
