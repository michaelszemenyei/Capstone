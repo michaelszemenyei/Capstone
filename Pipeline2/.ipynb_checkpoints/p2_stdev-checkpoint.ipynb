{
 "cells": [
  {
   "cell_type": "markdown",
   "metadata": {},
   "source": [
    "## Pipeline 2 Outlier Handling - Standard Deviation "
   ]
  },
  {
   "cell_type": "code",
   "execution_count": 16,
   "metadata": {},
   "outputs": [],
   "source": [
    "# import packages\n",
    "import numpy as np\n",
    "import pandas as pd\n",
    "import matplotlib.pyplot as plt"
   ]
  },
  {
   "cell_type": "code",
   "execution_count": 17,
   "metadata": {},
   "outputs": [
    {
     "data": {
      "text/html": [
       "<div>\n",
       "<style scoped>\n",
       "    .dataframe tbody tr th:only-of-type {\n",
       "        vertical-align: middle;\n",
       "    }\n",
       "\n",
       "    .dataframe tbody tr th {\n",
       "        vertical-align: top;\n",
       "    }\n",
       "\n",
       "    .dataframe thead th {\n",
       "        text-align: right;\n",
       "    }\n",
       "</style>\n",
       "<table border=\"1\" class=\"dataframe\">\n",
       "  <thead>\n",
       "    <tr style=\"text-align: right;\">\n",
       "      <th></th>\n",
       "      <th>H_FTPct</th>\n",
       "      <th>H_EFGPct</th>\n",
       "      <th>H_ThreePARt</th>\n",
       "      <th>H_FTR</th>\n",
       "      <th>H_REBPct</th>\n",
       "      <th>H_BLKPct</th>\n",
       "      <th>H_AST_TOV_Ratio</th>\n",
       "      <th>A_FTPct</th>\n",
       "      <th>A_EFGPct</th>\n",
       "      <th>A_ThreePARt</th>\n",
       "      <th>A_FTR</th>\n",
       "      <th>A_REBPct</th>\n",
       "      <th>A_BLKPct</th>\n",
       "      <th>A_AST_TOV_Ratio</th>\n",
       "    </tr>\n",
       "  </thead>\n",
       "  <tbody>\n",
       "    <tr>\n",
       "      <th>0</th>\n",
       "      <td>0.833</td>\n",
       "      <td>0.461538</td>\n",
       "      <td>0.395604</td>\n",
       "      <td>0.574169</td>\n",
       "      <td>0.506173</td>\n",
       "      <td>0.191273</td>\n",
       "      <td>1.101460</td>\n",
       "      <td>0.952</td>\n",
       "      <td>0.628049</td>\n",
       "      <td>0.463415</td>\n",
       "      <td>0.711380</td>\n",
       "      <td>0.493827</td>\n",
       "      <td>0.109890</td>\n",
       "      <td>1.135444</td>\n",
       "    </tr>\n",
       "    <tr>\n",
       "      <th>1</th>\n",
       "      <td>0.885</td>\n",
       "      <td>0.430851</td>\n",
       "      <td>0.404255</td>\n",
       "      <td>0.525924</td>\n",
       "      <td>0.538462</td>\n",
       "      <td>0.156174</td>\n",
       "      <td>1.021080</td>\n",
       "      <td>0.870</td>\n",
       "      <td>0.542683</td>\n",
       "      <td>0.414634</td>\n",
       "      <td>0.727744</td>\n",
       "      <td>0.461538</td>\n",
       "      <td>0.053191</td>\n",
       "      <td>1.146123</td>\n",
       "    </tr>\n",
       "    <tr>\n",
       "      <th>2</th>\n",
       "      <td>0.844</td>\n",
       "      <td>0.590909</td>\n",
       "      <td>0.428571</td>\n",
       "      <td>0.644658</td>\n",
       "      <td>0.486486</td>\n",
       "      <td>0.277350</td>\n",
       "      <td>1.164993</td>\n",
       "      <td>0.935</td>\n",
       "      <td>0.512821</td>\n",
       "      <td>0.397436</td>\n",
       "      <td>0.793993</td>\n",
       "      <td>0.513514</td>\n",
       "      <td>0.025974</td>\n",
       "      <td>1.104196</td>\n",
       "    </tr>\n",
       "    <tr>\n",
       "      <th>3</th>\n",
       "      <td>0.727</td>\n",
       "      <td>0.567568</td>\n",
       "      <td>0.364865</td>\n",
       "      <td>0.545250</td>\n",
       "      <td>0.475000</td>\n",
       "      <td>0.230940</td>\n",
       "      <td>1.122462</td>\n",
       "      <td>0.710</td>\n",
       "      <td>0.480000</td>\n",
       "      <td>0.453333</td>\n",
       "      <td>0.801817</td>\n",
       "      <td>0.525000</td>\n",
       "      <td>0.094595</td>\n",
       "      <td>1.095368</td>\n",
       "    </tr>\n",
       "    <tr>\n",
       "      <th>4</th>\n",
       "      <td>0.722</td>\n",
       "      <td>0.511905</td>\n",
       "      <td>0.369048</td>\n",
       "      <td>0.462910</td>\n",
       "      <td>0.540816</td>\n",
       "      <td>0.154303</td>\n",
       "      <td>1.154153</td>\n",
       "      <td>0.806</td>\n",
       "      <td>0.476190</td>\n",
       "      <td>0.511905</td>\n",
       "      <td>0.779418</td>\n",
       "      <td>0.459184</td>\n",
       "      <td>0.047619</td>\n",
       "      <td>1.211808</td>\n",
       "    </tr>\n",
       "    <tr>\n",
       "      <th>5</th>\n",
       "      <td>0.889</td>\n",
       "      <td>0.551724</td>\n",
       "      <td>0.471264</td>\n",
       "      <td>0.557086</td>\n",
       "      <td>0.523810</td>\n",
       "      <td>0.250000</td>\n",
       "      <td>1.194794</td>\n",
       "      <td>0.654</td>\n",
       "      <td>0.531250</td>\n",
       "      <td>0.437500</td>\n",
       "      <td>0.755042</td>\n",
       "      <td>0.476190</td>\n",
       "      <td>0.080460</td>\n",
       "      <td>1.164993</td>\n",
       "    </tr>\n",
       "    <tr>\n",
       "      <th>6</th>\n",
       "      <td>0.700</td>\n",
       "      <td>0.561224</td>\n",
       "      <td>0.418367</td>\n",
       "      <td>0.319438</td>\n",
       "      <td>0.404255</td>\n",
       "      <td>0.246183</td>\n",
       "      <td>1.171377</td>\n",
       "      <td>0.789</td>\n",
       "      <td>0.525253</td>\n",
       "      <td>0.393939</td>\n",
       "      <td>0.661881</td>\n",
       "      <td>0.595745</td>\n",
       "      <td>0.051020</td>\n",
       "      <td>1.122462</td>\n",
       "    </tr>\n",
       "    <tr>\n",
       "      <th>7</th>\n",
       "      <td>0.808</td>\n",
       "      <td>0.475490</td>\n",
       "      <td>0.441176</td>\n",
       "      <td>0.504878</td>\n",
       "      <td>0.466102</td>\n",
       "      <td>0.313112</td>\n",
       "      <td>1.086721</td>\n",
       "      <td>0.667</td>\n",
       "      <td>0.441176</td>\n",
       "      <td>0.431373</td>\n",
       "      <td>0.754186</td>\n",
       "      <td>0.533898</td>\n",
       "      <td>0.049020</td>\n",
       "      <td>1.016012</td>\n",
       "    </tr>\n",
       "    <tr>\n",
       "      <th>8</th>\n",
       "      <td>0.606</td>\n",
       "      <td>0.464706</td>\n",
       "      <td>0.411765</td>\n",
       "      <td>0.623085</td>\n",
       "      <td>0.455556</td>\n",
       "      <td>0.188982</td>\n",
       "      <td>1.122462</td>\n",
       "      <td>0.870</td>\n",
       "      <td>0.535714</td>\n",
       "      <td>0.309524</td>\n",
       "      <td>0.723373</td>\n",
       "      <td>0.544444</td>\n",
       "      <td>0.058824</td>\n",
       "      <td>1.129545</td>\n",
       "    </tr>\n",
       "    <tr>\n",
       "      <th>9</th>\n",
       "      <td>0.743</td>\n",
       "      <td>0.538043</td>\n",
       "      <td>0.445652</td>\n",
       "      <td>0.616794</td>\n",
       "      <td>0.569892</td>\n",
       "      <td>0.214423</td>\n",
       "      <td>1.252307</td>\n",
       "      <td>0.760</td>\n",
       "      <td>0.482759</td>\n",
       "      <td>0.367816</td>\n",
       "      <td>0.732159</td>\n",
       "      <td>0.430108</td>\n",
       "      <td>0.065217</td>\n",
       "      <td>1.065291</td>\n",
       "    </tr>\n",
       "  </tbody>\n",
       "</table>\n",
       "</div>"
      ],
      "text/plain": [
       "   H_FTPct  H_EFGPct  H_ThreePARt     H_FTR  H_REBPct  H_BLKPct  \\\n",
       "0    0.833  0.461538     0.395604  0.574169  0.506173  0.191273   \n",
       "1    0.885  0.430851     0.404255  0.525924  0.538462  0.156174   \n",
       "2    0.844  0.590909     0.428571  0.644658  0.486486  0.277350   \n",
       "3    0.727  0.567568     0.364865  0.545250  0.475000  0.230940   \n",
       "4    0.722  0.511905     0.369048  0.462910  0.540816  0.154303   \n",
       "5    0.889  0.551724     0.471264  0.557086  0.523810  0.250000   \n",
       "6    0.700  0.561224     0.418367  0.319438  0.404255  0.246183   \n",
       "7    0.808  0.475490     0.441176  0.504878  0.466102  0.313112   \n",
       "8    0.606  0.464706     0.411765  0.623085  0.455556  0.188982   \n",
       "9    0.743  0.538043     0.445652  0.616794  0.569892  0.214423   \n",
       "\n",
       "   H_AST_TOV_Ratio  A_FTPct  A_EFGPct  A_ThreePARt     A_FTR  A_REBPct  \\\n",
       "0         1.101460    0.952  0.628049     0.463415  0.711380  0.493827   \n",
       "1         1.021080    0.870  0.542683     0.414634  0.727744  0.461538   \n",
       "2         1.164993    0.935  0.512821     0.397436  0.793993  0.513514   \n",
       "3         1.122462    0.710  0.480000     0.453333  0.801817  0.525000   \n",
       "4         1.154153    0.806  0.476190     0.511905  0.779418  0.459184   \n",
       "5         1.194794    0.654  0.531250     0.437500  0.755042  0.476190   \n",
       "6         1.171377    0.789  0.525253     0.393939  0.661881  0.595745   \n",
       "7         1.086721    0.667  0.441176     0.431373  0.754186  0.533898   \n",
       "8         1.122462    0.870  0.535714     0.309524  0.723373  0.544444   \n",
       "9         1.252307    0.760  0.482759     0.367816  0.732159  0.430108   \n",
       "\n",
       "   A_BLKPct  A_AST_TOV_Ratio  \n",
       "0  0.109890         1.135444  \n",
       "1  0.053191         1.146123  \n",
       "2  0.025974         1.104196  \n",
       "3  0.094595         1.095368  \n",
       "4  0.047619         1.211808  \n",
       "5  0.080460         1.164993  \n",
       "6  0.051020         1.122462  \n",
       "7  0.049020         1.016012  \n",
       "8  0.058824         1.129545  \n",
       "9  0.065217         1.065291  "
      ]
     },
     "execution_count": 17,
     "metadata": {},
     "output_type": "execute_result"
    }
   ],
   "source": [
    "# read the excel file\n",
    "dfx = pd.read_csv('../csv_files/Capstone_p2_handled_skew.csv',index_col=0)\n",
    "dfx.head(10)"
   ]
  },
  {
   "cell_type": "markdown",
   "metadata": {},
   "source": [
    "### Looking for Outliers"
   ]
  },
  {
   "cell_type": "code",
   "execution_count": 18,
   "metadata": {},
   "outputs": [
    {
     "data": {
      "text/plain": [
       "{'whiskers': [<matplotlib.lines.Line2D at 0x7fb2a1eff908>,\n",
       "  <matplotlib.lines.Line2D at 0x7fb2a1effc50>],\n",
       " 'caps': [<matplotlib.lines.Line2D at 0x7fb2a1efff98>,\n",
       "  <matplotlib.lines.Line2D at 0x7fb2a1f0c320>],\n",
       " 'boxes': [<matplotlib.lines.Line2D at 0x7fb2a1eff588>],\n",
       " 'medians': [<matplotlib.lines.Line2D at 0x7fb2a1f0c668>],\n",
       " 'fliers': [<matplotlib.lines.Line2D at 0x7fb2a1f0c9b0>],\n",
       " 'means': []}"
      ]
     },
     "execution_count": 18,
     "metadata": {},
     "output_type": "execute_result"
    },
    {
     "data": {
      "image/png": "[encoded data removed]",
      "text/plain": [
       "<Figure size 432x288 with 1 Axes>"
      ]
     },
     "metadata": {
      "needs_background": "light"
     },
     "output_type": "display_data"
    }
   ],
   "source": [
    "# Creating a box plot to detect outliers\n",
    "plt.boxplot(dfx.H_FTPct)"
   ]
  },
  {
   "cell_type": "code",
   "execution_count": 19,
   "metadata": {},
   "outputs": [
    {
     "data": {
      "text/plain": [
       "{'whiskers': [<matplotlib.lines.Line2D at 0x7fb2a1edada0>,\n",
       "  <matplotlib.lines.Line2D at 0x7fb2a1e6b198>],\n",
       " 'caps': [<matplotlib.lines.Line2D at 0x7fb2a1e6b4e0>,\n",
       "  <matplotlib.lines.Line2D at 0x7fb2a1e6b828>],\n",
       " 'boxes': [<matplotlib.lines.Line2D at 0x7fb2a1edac50>],\n",
       " 'medians': [<matplotlib.lines.Line2D at 0x7fb2a1e6bb70>],\n",
       " 'fliers': [<matplotlib.lines.Line2D at 0x7fb2a1e6beb8>],\n",
       " 'means': []}"
      ]
     },
     "execution_count": 19,
     "metadata": {},
     "output_type": "execute_result"
    },
    {
     "data": {
      "image/png": "[encoded data removed]",
      "text/plain": [
       "<Figure size 432x288 with 1 Axes>"
      ]
     },
     "metadata": {
      "needs_background": "light"
     },
     "output_type": "display_data"
    }
   ],
   "source": [
    "# Creating a box plot to detect outliers\n",
    "plt.boxplot(dfx.A_REBPct)"
   ]
  },
  {
   "cell_type": "code",
   "execution_count": 20,
   "metadata": {},
   "outputs": [
    {
     "data": {
      "text/plain": [
       "{'whiskers': [<matplotlib.lines.Line2D at 0x7fb2a1e48358>,\n",
       "  <matplotlib.lines.Line2D at 0x7fb2a1e486d8>],\n",
       " 'caps': [<matplotlib.lines.Line2D at 0x7fb2a1e48a20>,\n",
       "  <matplotlib.lines.Line2D at 0x7fb2a1e48d68>],\n",
       " 'boxes': [<matplotlib.lines.Line2D at 0x7fb2a1e48048>],\n",
       " 'medians': [<matplotlib.lines.Line2D at 0x7fb2a1e510f0>],\n",
       " 'fliers': [<matplotlib.lines.Line2D at 0x7fb2a1e51438>],\n",
       " 'means': []}"
      ]
     },
     "execution_count": 20,
     "metadata": {},
     "output_type": "execute_result"
    },
    {
     "data": {
      "image/png": "[encoded data removed]",
      "text/plain": [
       "<Figure size 432x288 with 1 Axes>"
      ]
     },
     "metadata": {
      "needs_background": "light"
     },
     "output_type": "display_data"
    }
   ],
   "source": [
    "# Creating a box plot to detect outliers\n",
    "plt.boxplot(dfx.H_FTR)"
   ]
  },
  {
   "cell_type": "code",
   "execution_count": 21,
   "metadata": {},
   "outputs": [
    {
     "data": {
      "text/plain": [
       "{'whiskers': [<matplotlib.lines.Line2D at 0x7fb2a1e20898>,\n",
       "  <matplotlib.lines.Line2D at 0x7fb2a1e20c18>],\n",
       " 'caps': [<matplotlib.lines.Line2D at 0x7fb2a1e20f60>,\n",
       "  <matplotlib.lines.Line2D at 0x7fb2a1dad2e8>],\n",
       " 'boxes': [<matplotlib.lines.Line2D at 0x7fb2a1e20438>],\n",
       " 'medians': [<matplotlib.lines.Line2D at 0x7fb2a1dad630>],\n",
       " 'fliers': [<matplotlib.lines.Line2D at 0x7fb2a1dad978>],\n",
       " 'means': []}"
      ]
     },
     "execution_count": 21,
     "metadata": {},
     "output_type": "execute_result"
    },
    {
     "data": {
      "image/png": "[encoded data removed]",
      "text/plain": [
       "<Figure size 432x288 with 1 Axes>"
      ]
     },
     "metadata": {
      "needs_background": "light"
     },
     "output_type": "display_data"
    }
   ],
   "source": [
    "# Creating a box plot to detect outliers\n",
    "plt.boxplot(dfx.A_AST_TOV_Ratio)"
   ]
  },
  {
   "cell_type": "markdown",
   "metadata": {},
   "source": [
    "### Handling the outliers"
   ]
  },
  {
   "cell_type": "code",
   "execution_count": 22,
   "metadata": {},
   "outputs": [],
   "source": [
    "for col in dfx.columns:\n",
    "    u_bound = dfx[col].mean() + 3* dfx[col].std()\n",
    "    dfx[col][dfx[col] > u_bound] = u_bound"
   ]
  },
  {
   "cell_type": "code",
   "execution_count": 23,
   "metadata": {},
   "outputs": [
    {
     "data": {
      "text/plain": [
       "False    9844\n",
       "Name: A_AST_TOV_Ratio, dtype: int64"
      ]
     },
     "execution_count": 23,
     "metadata": {},
     "output_type": "execute_result"
    }
   ],
   "source": [
    "# check\n",
    "pd.Series(dfx[col][dfx[col]] > u_bound).value_counts()"
   ]
  },
  {
   "cell_type": "code",
   "execution_count": 24,
   "metadata": {},
   "outputs": [],
   "source": [
    "for col in dfx.columns:\n",
    "    l_bound = dfx[col].mean() - 3* dfx[col].std()\n",
    "    dfx[col][dfx[col] < l_bound] = l_bound"
   ]
  },
  {
   "cell_type": "code",
   "execution_count": 25,
   "metadata": {},
   "outputs": [
    {
     "data": {
      "text/plain": [
       "False    9844\n",
       "Name: A_AST_TOV_Ratio, dtype: int64"
      ]
     },
     "execution_count": 25,
     "metadata": {},
     "output_type": "execute_result"
    }
   ],
   "source": [
    "# check\n",
    "pd.Series(dfx[col][dfx[col]] < l_bound).value_counts()"
   ]
  },
  {
   "cell_type": "markdown",
   "metadata": {},
   "source": [
    "### Checking to see if it worked"
   ]
  },
  {
   "cell_type": "code",
   "execution_count": 29,
   "metadata": {},
   "outputs": [
    {
     "data": {
      "text/plain": [
       "{'whiskers': [<matplotlib.lines.Line2D at 0x7fb2a1c3b860>,\n",
       "  <matplotlib.lines.Line2D at 0x7fb2a1c3bba8>],\n",
       " 'caps': [<matplotlib.lines.Line2D at 0x7fb2a1c3bef0>,\n",
       "  <matplotlib.lines.Line2D at 0x7fb2a1c47278>],\n",
       " 'boxes': [<matplotlib.lines.Line2D at 0x7fb2a1c3b470>],\n",
       " 'medians': [<matplotlib.lines.Line2D at 0x7fb2a1c475c0>],\n",
       " 'fliers': [<matplotlib.lines.Line2D at 0x7fb2a1c47908>],\n",
       " 'means': []}"
      ]
     },
     "execution_count": 29,
     "metadata": {},
     "output_type": "execute_result"
    },
    {
     "data": {
      "image/png": "[encoded data removed]",
      "text/plain": [
       "<Figure size 432x288 with 1 Axes>"
      ]
     },
     "metadata": {
      "needs_background": "light"
     },
     "output_type": "display_data"
    }
   ],
   "source": [
    "# Creating a box plot to detect outliers\n",
    "plt.boxplot(dfx.H_FTPct)"
   ]
  },
  {
   "cell_type": "code",
   "execution_count": 28,
   "metadata": {},
   "outputs": [
    {
     "data": {
      "text/plain": [
       "{'whiskers': [<matplotlib.lines.Line2D at 0x7fb2a1cd3dd8>,\n",
       "  <matplotlib.lines.Line2D at 0x7fb2a1ce1160>],\n",
       " 'caps': [<matplotlib.lines.Line2D at 0x7fb2a1ce14a8>,\n",
       "  <matplotlib.lines.Line2D at 0x7fb2a1ce17f0>],\n",
       " 'boxes': [<matplotlib.lines.Line2D at 0x7fb2a1cd3ac8>],\n",
       " 'medians': [<matplotlib.lines.Line2D at 0x7fb2a1ce1b38>],\n",
       " 'fliers': [<matplotlib.lines.Line2D at 0x7fb2a1ce1e80>],\n",
       " 'means': []}"
      ]
     },
     "execution_count": 28,
     "metadata": {},
     "output_type": "execute_result"
    },
    {
     "data": {
      "image/png": "[encoded data removed]",
      "text/plain": [
       "<Figure size 432x288 with 1 Axes>"
      ]
     },
     "metadata": {
      "needs_background": "light"
     },
     "output_type": "display_data"
    }
   ],
   "source": [
    "# Creating a box plot to detect outliers\n",
    "plt.boxplot(dfx.H_FTPct)"
   ]
  },
  {
   "cell_type": "code",
   "execution_count": 30,
   "metadata": {},
   "outputs": [
    {
     "data": {
      "text/plain": [
       "{'whiskers': [<matplotlib.lines.Line2D at 0x7fb2a1c222e8>,\n",
       "  <matplotlib.lines.Line2D at 0x7fb2a1c22630>],\n",
       " 'caps': [<matplotlib.lines.Line2D at 0x7fb2a1c22978>,\n",
       "  <matplotlib.lines.Line2D at 0x7fb2a1c22cc0>],\n",
       " 'boxes': [<matplotlib.lines.Line2D at 0x7fb2a1c62400>],\n",
       " 'medians': [<matplotlib.lines.Line2D at 0x7fb2a1bac048>],\n",
       " 'fliers': [<matplotlib.lines.Line2D at 0x7fb2a1bac390>],\n",
       " 'means': []}"
      ]
     },
     "execution_count": 30,
     "metadata": {},
     "output_type": "execute_result"
    },
    {
     "data": {
      "image/png": "[encoded data removed]",
      "text/plain": [
       "<Figure size 432x288 with 1 Axes>"
      ]
     },
     "metadata": {
      "needs_background": "light"
     },
     "output_type": "display_data"
    }
   ],
   "source": [
    "# Creating a box plot to detect outliers\n",
    "plt.boxplot(dfx.A_REBPct)"
   ]
  },
  {
   "cell_type": "code",
   "execution_count": 31,
   "metadata": {},
   "outputs": [
    {
     "data": {
      "text/plain": [
       "{'whiskers': [<matplotlib.lines.Line2D at 0x7fb2a1b851d0>,\n",
       "  <matplotlib.lines.Line2D at 0x7fb2a1b85588>],\n",
       " 'caps': [<matplotlib.lines.Line2D at 0x7fb2a1b858d0>,\n",
       "  <matplotlib.lines.Line2D at 0x7fb2a1b85c18>],\n",
       " 'boxes': [<matplotlib.lines.Line2D at 0x7fb2a1b85080>],\n",
       " 'medians': [<matplotlib.lines.Line2D at 0x7fb2a1b85f60>],\n",
       " 'fliers': [<matplotlib.lines.Line2D at 0x7fb2a1b8f2e8>],\n",
       " 'means': []}"
      ]
     },
     "execution_count": 31,
     "metadata": {},
     "output_type": "execute_result"
    },
    {
     "data": {
      "image/png": "[encoded data removed]",
      "text/plain": [
       "<Figure size 432x288 with 1 Axes>"
      ]
     },
     "metadata": {
      "needs_background": "light"
     },
     "output_type": "display_data"
    }
   ],
   "source": [
    "# Creating a box plot to detect outliers\n",
    "plt.boxplot(dfx.H_FTR)"
   ]
  },
  {
   "cell_type": "code",
   "execution_count": 32,
   "metadata": {},
   "outputs": [
    {
     "data": {
      "text/plain": [
       "{'whiskers': [<matplotlib.lines.Line2D at 0x7fb2a1b5dcf8>,\n",
       "  <matplotlib.lines.Line2D at 0x7fb2a1b69080>],\n",
       " 'caps': [<matplotlib.lines.Line2D at 0x7fb2a1b693c8>,\n",
       "  <matplotlib.lines.Line2D at 0x7fb2a1b69710>],\n",
       " 'boxes': [<matplotlib.lines.Line2D at 0x7fb2a1b5d7f0>],\n",
       " 'medians': [<matplotlib.lines.Line2D at 0x7fb2a1b69a58>],\n",
       " 'fliers': [<matplotlib.lines.Line2D at 0x7fb2a1b69da0>],\n",
       " 'means': []}"
      ]
     },
     "execution_count": 32,
     "metadata": {},
     "output_type": "execute_result"
    },
    {
     "data": {
      "image/png": "[encoded data removed]",
      "text/plain": [
       "<Figure size 432x288 with 1 Axes>"
      ]
     },
     "metadata": {
      "needs_background": "light"
     },
     "output_type": "display_data"
    }
   ],
   "source": [
    "# Creating a box plot to detect outliers\n",
    "plt.boxplot(dfx.A_AST_TOV_Ratio)"
   ]
  },
  {
   "cell_type": "code",
   "execution_count": 34,
   "metadata": {},
   "outputs": [
    {
     "data": {
      "text/plain": [
       "{'whiskers': [<matplotlib.lines.Line2D at 0x7fb2a1ac6588>,\n",
       "  <matplotlib.lines.Line2D at 0x7fb2a1ac68d0>],\n",
       " 'caps': [<matplotlib.lines.Line2D at 0x7fb2a1ac6c18>,\n",
       "  <matplotlib.lines.Line2D at 0x7fb2a1ac6f60>],\n",
       " 'boxes': [<matplotlib.lines.Line2D at 0x7fb2a1ac6278>],\n",
       " 'medians': [<matplotlib.lines.Line2D at 0x7fb2a1ad12e8>],\n",
       " 'fliers': [<matplotlib.lines.Line2D at 0x7fb2a1ad1630>],\n",
       " 'means': []}"
      ]
     },
     "execution_count": 34,
     "metadata": {},
     "output_type": "execute_result"
    },
    {
     "data": {
      "image/png": "[encoded data removed]",
      "text/plain": [
       "<Figure size 432x288 with 1 Axes>"
      ]
     },
     "metadata": {
      "needs_background": "light"
     },
     "output_type": "display_data"
    }
   ],
   "source": [
    "# Creating a box plot to detect outliers\n",
    "plt.boxplot(dfx.H_FTPct)"
   ]
  },
  {
   "cell_type": "code",
   "execution_count": 35,
   "metadata": {},
   "outputs": [],
   "source": [
    "# Saving to a csv\n",
    "dfx.to_csv('../csv_files/Capstone_p2_3stdev.csv')"
   ]
  },
  {
   "cell_type": "code",
   "execution_count": null,
   "metadata": {},
   "outputs": [],
   "source": []
  }
 ],
 "metadata": {
  "kernelspec": {
   "display_name": "Python 3",
   "language": "python",
   "name": "python3"
  },
  "language_info": {
   "codemirror_mode": {
    "name": "ipython",
    "version": 3
   },
   "file_extension": ".py",
   "mimetype": "text/x-python",
   "name": "python",
   "nbconvert_exporter": "python",
   "pygments_lexer": "ipython3",
   "version": "3.6.7"
  }
 },
 "nbformat": 4,
 "nbformat_minor": 2
}
